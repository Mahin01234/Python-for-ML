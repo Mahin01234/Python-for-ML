{
  "nbformat": 4,
  "nbformat_minor": 0,
  "metadata": {
    "colab": {
      "provenance": []
    },
    "kernelspec": {
      "name": "python3",
      "display_name": "Python 3"
    },
    "language_info": {
      "name": "python"
    }
  },
  "cells": [
    {
      "cell_type": "code",
      "execution_count": null,
      "metadata": {
        "id": "7_TCtYq8I9bY",
        "colab": {
          "base_uri": "https://localhost:8080/"
        },
        "outputId": "076c1ac2-dfa4-41b2-d177-a5e5dc4775b4"
      },
      "outputs": [
        {
          "output_type": "stream",
          "name": "stdout",
          "text": [
            "1\n",
            "2\n"
          ]
        }
      ],
      "source": [
        "import numpy as np\n",
        "#1d\n",
        "a1 = np.array( [1,2,3,4,5] )\n",
        "print (a1.ndim)\n",
        "\n",
        "#2d\n",
        "a2 = np.array([[1,2,3] , [4,5,6]])\n",
        "\n",
        "print (a2.ndim)\n",
        "\n",
        "\n",
        "#3\n",
        "a3 = np.array([\n",
        "    #1st floor\n",
        "    [ [1,2,3], # row1\n",
        "      [4,5,6]  ], #row2\n",
        "\n",
        "    #2nd floor\n",
        "\n",
        "     [[1,2,3], # row1\n",
        "      [4,5,6]  ], #row2\n",
        "\n",
        "\n",
        "    #3rd floor\n",
        "      [[1,2,3], # row1\n",
        "      [4,5,6]  ] #row2\n",
        "])\n"
      ]
    },
    {
      "cell_type": "markdown",
      "source": [
        "\n",
        "**Array attributes**"
      ],
      "metadata": {
        "id": "L6m-y-d4z8ZV"
      }
    },
    {
      "cell_type": "code",
      "source": [
        "# dimension\n",
        "print(a1.ndim)\n",
        "print(a2.ndim)\n",
        "print(a3.ndim)\n",
        "\n",
        "\n",
        "#shape\n",
        "print(a1.shape)\n",
        "print(a2.shape)\n",
        "print(a3.shape)\n",
        "\n",
        "\n",
        "#data type\n",
        "print(a1.dtype)\n",
        "print(a2.dtype)\n",
        "print(a3.dtype)\n",
        "\n",
        "\n",
        "#size\n",
        "print(a1.size)\n",
        "print(a2.size)\n",
        "print(a3.size)"
      ],
      "metadata": {
        "colab": {
          "base_uri": "https://localhost:8080/"
        },
        "id": "FxcrxPz10JXQ",
        "outputId": "93abe7ea-434a-4f4b-b34d-f30c4d2408cf"
      },
      "execution_count": null,
      "outputs": [
        {
          "output_type": "stream",
          "name": "stdout",
          "text": [
            "1\n",
            "2\n",
            "3\n",
            "(5,)\n",
            "(2, 3)\n",
            "(3, 2, 3)\n",
            "int64\n",
            "int64\n",
            "int64\n",
            "5\n",
            "6\n",
            "18\n"
          ]
        }
      ]
    },
    {
      "cell_type": "markdown",
      "source": [
        "**ndarray data type**"
      ],
      "metadata": {
        "id": "piGm9Jcc05qN"
      }
    },
    {
      "cell_type": "code",
      "source": [
        "\n",
        "arr = np.array([1,2,3])\n",
        "\n",
        "print(arr.dtype)\n",
        "\n",
        "arr = np.array([1.5,2.4,3.2])\n",
        "print(arr.dtype)"
      ],
      "metadata": {
        "colab": {
          "base_uri": "https://localhost:8080/"
        },
        "id": "N6Mc-yGV0-Ob",
        "outputId": "895db649-85b6-41ab-faae-6b0fc9295ad4"
      },
      "execution_count": null,
      "outputs": [
        {
          "output_type": "stream",
          "name": "stdout",
          "text": [
            "int64\n",
            "float64\n"
          ]
        }
      ]
    },
    {
      "cell_type": "code",
      "source": [
        "arr = np.array([1,2,3.2])\n",
        "# upcasted to float\n",
        "print(arr.dtype)\n",
        "\n",
        "#upcasted to string\n",
        "arr = np.array([1,2,3.2,'hello'])\n",
        "print(arr.dtype)\n",
        "\n",
        "\n",
        "arr = np.array([1,True,3.25,'hello',])\n",
        "print(arr.dtype)"
      ],
      "metadata": {
        "colab": {
          "base_uri": "https://localhost:8080/"
        },
        "id": "w11i_4rV1Abd",
        "outputId": "1284b138-ab5e-4a7f-c013-74334c11474c"
      },
      "execution_count": null,
      "outputs": [
        {
          "output_type": "stream",
          "name": "stdout",
          "text": [
            "float64\n",
            "<U32\n",
            "<U32\n"
          ]
        }
      ]
    },
    {
      "cell_type": "markdown",
      "source": [
        "**selecting a data type for an array**\n"
      ],
      "metadata": {
        "id": "EnBq2tuM2dp4"
      }
    },
    {
      "cell_type": "code",
      "source": [
        "arr = np.array([1,2,300],dtype=np.int16)\n",
        "print(arr.dtype)\n",
        "print(arr)\n",
        "\n",
        "\n",
        "\n",
        "\n",
        "arr = arr.astype(np.int32)\n",
        "print(arr.dtype)\n",
        "\n",
        "\n",
        "#error\n",
        "arr = np.array([1,2,3.2],dtype=np.float64)\n",
        "print(arr.dtype)\n",
        "print(arr)"
      ],
      "metadata": {
        "colab": {
          "base_uri": "https://localhost:8080/"
        },
        "id": "srtrGlYd2lsW",
        "outputId": "40f845c1-4784-48b9-f053-56c984d68531"
      },
      "execution_count": null,
      "outputs": [
        {
          "output_type": "stream",
          "name": "stdout",
          "text": [
            "int16\n",
            "[  1   2 300]\n",
            "int32\n",
            "float64\n",
            "[1.  2.  3.2]\n"
          ]
        }
      ]
    },
    {
      "cell_type": "markdown",
      "source": [
        "**ndarray creation from existing data**"
      ],
      "metadata": {
        "id": "c7LyoRVq4urp"
      }
    },
    {
      "cell_type": "code",
      "source": [
        "#list\n",
        "\n",
        "lst = [10,20,30,40 , 40.5]\n",
        "\n",
        "arr = np.array(lst, dtype=np.int32)\n",
        "\n",
        "# print(arr)\n",
        "# print(type(arr))\n",
        "# print(arr.dtype)\n",
        "\n",
        "\n",
        "mixed_lst = [10, True , 'Hello' ]\n",
        "\n",
        "arr = np.array(mixed_lst)\n",
        "\n",
        "# print(arr)\n",
        "# print(type(arr))\n",
        "# print(arr.dtype)\n",
        "\n",
        "\n",
        "matrix = [ [1,2,3], # row1\n",
        "           [4,5,6] #row2\n",
        "                ]\n",
        "\n",
        "arr = np.array(matrix)\n",
        "\n",
        "print(arr)\n",
        "print(type(arr))\n",
        "print(arr.dtype)\n",
        "print(arr.shape)\n",
        "print(arr.ndim)"
      ],
      "metadata": {
        "colab": {
          "base_uri": "https://localhost:8080/"
        },
        "id": "hrMZL7DB4787",
        "outputId": "fdfd30a2-0dcf-4c23-c1e1-4cc561641009"
      },
      "execution_count": null,
      "outputs": [
        {
          "output_type": "stream",
          "name": "stdout",
          "text": [
            "[[1 2 3]\n",
            " [4 5 6]]\n",
            "<class 'numpy.ndarray'>\n",
            "int64\n",
            "(2, 3)\n",
            "2\n"
          ]
        }
      ]
    },
    {
      "cell_type": "code",
      "source": [
        "#tuple\n",
        "\n",
        "tpl = (10,20,30)\n",
        "\n",
        "arr = np.array(tpl,dtype=np.int32)\n",
        "print(arr.dtype)\n",
        "arr = arr.astype(np.int16)\n",
        "print(arr)\n",
        "print(type(arr))\n",
        "print(arr.dtype)\n",
        "print(arr.shape)\n",
        "print(arr.ndim)"
      ],
      "metadata": {
        "colab": {
          "base_uri": "https://localhost:8080/"
        },
        "id": "CX4IaRFU5Dnk",
        "outputId": "f0fd1a83-ee61-4ac1-face-dbd1d87ebbc1"
      },
      "execution_count": null,
      "outputs": [
        {
          "output_type": "stream",
          "name": "stdout",
          "text": [
            "int32\n",
            "[10 20 30]\n",
            "<class 'numpy.ndarray'>\n",
            "int16\n",
            "(3,)\n",
            "1\n"
          ]
        }
      ]
    },
    {
      "cell_type": "code",
      "source": [
        "#set\n",
        "\n",
        "st = { 1, 2, 3 }\n",
        "\n",
        "arr = np.array(list(st))\n",
        "# print(arr.dtype)\n",
        "arr = arr.astype(np.int16)\n",
        "print(arr)\n",
        "print(type(arr))\n",
        "print(arr.dtype)\n",
        "print(arr.shape)\n",
        "print(arr.ndim)"
      ],
      "metadata": {
        "colab": {
          "base_uri": "https://localhost:8080/"
        },
        "id": "bFps8E7q5Gvj",
        "outputId": "0bebd379-f858-4479-9b43-8f8eade26ef6"
      },
      "execution_count": null,
      "outputs": [
        {
          "output_type": "stream",
          "name": "stdout",
          "text": [
            "[1 2 3]\n",
            "<class 'numpy.ndarray'>\n",
            "int16\n",
            "(3,)\n",
            "1\n"
          ]
        }
      ]
    },
    {
      "cell_type": "code",
      "source": [
        "# dictionary\n",
        "\n",
        "dc = { 'a' : 10 , 'b' : 20 , 'c' :30 }\n",
        "\n",
        "keys = dc.keys()\n",
        "values = dc.values()\n",
        "items = dc.items()"
      ],
      "metadata": {
        "id": "lSh-Kma15K1k"
      },
      "execution_count": null,
      "outputs": []
    },
    {
      "cell_type": "code",
      "source": [
        "#keys to ndarray\n",
        "arr = np.array(list(keys))\n",
        "print(arr)\n",
        "print(type(arr))\n",
        "print(arr.dtype)\n",
        "print(arr.shape)\n",
        "print(arr.ndim)\n",
        "print(arr.size)"
      ],
      "metadata": {
        "colab": {
          "base_uri": "https://localhost:8080/"
        },
        "id": "XEMPap875ODZ",
        "outputId": "c5f89570-dfa7-4c9f-b679-12fdc755c604"
      },
      "execution_count": null,
      "outputs": [
        {
          "output_type": "stream",
          "name": "stdout",
          "text": [
            "['a' 'b' 'c']\n",
            "<class 'numpy.ndarray'>\n",
            "<U1\n",
            "(3,)\n",
            "1\n",
            "3\n"
          ]
        }
      ]
    },
    {
      "cell_type": "code",
      "source": [
        "\n",
        "#values to ndarray\n",
        "arr = np.array(list(values))\n",
        "print(arr)\n",
        "arr = arr.astype(np.int16)\n",
        "print(type(arr))\n",
        "print(arr.dtype)\n",
        "print(arr.shape)\n",
        "print(arr.ndim)\n",
        "print(arr.size)"
      ],
      "metadata": {
        "colab": {
          "base_uri": "https://localhost:8080/"
        },
        "id": "cM3mTigT5Qyc",
        "outputId": "c30653a3-1902-452a-ebc8-fce0ce06ce57"
      },
      "execution_count": null,
      "outputs": [
        {
          "output_type": "stream",
          "name": "stdout",
          "text": [
            "[10 20 30]\n",
            "<class 'numpy.ndarray'>\n",
            "int16\n",
            "(3,)\n",
            "1\n",
            "3\n"
          ]
        }
      ]
    },
    {
      "cell_type": "code",
      "source": [
        "#items to ndarray\n",
        "arr = np.array(list(items))\n",
        "print(arr)\n",
        "print(type(arr))\n",
        "print(arr.dtype)\n",
        "print(arr.shape)\n",
        "print(arr.ndim)\n",
        "print(arr.size)"
      ],
      "metadata": {
        "colab": {
          "base_uri": "https://localhost:8080/"
        },
        "id": "L0zdN-J15Tcy",
        "outputId": "a702b8cd-98a7-486e-9145-ccaf308b14fd"
      },
      "execution_count": null,
      "outputs": [
        {
          "output_type": "stream",
          "name": "stdout",
          "text": [
            "[['a' '10']\n",
            " ['b' '20']\n",
            " ['c' '30']]\n",
            "<class 'numpy.ndarray'>\n",
            "<U21\n",
            "(3, 2)\n",
            "2\n",
            "6\n"
          ]
        }
      ]
    },
    {
      "cell_type": "markdown",
      "source": [
        "**array creation with random values**"
      ],
      "metadata": {
        "id": "oKfdfqNn5okL"
      }
    },
    {
      "cell_type": "code",
      "source": [
        "# np.random.rand(shape)\n",
        "\n",
        "arr = np.random.rand(2,3) # 0 ->1\n",
        "\n",
        "print(arr)\n",
        "print(type(arr))\n",
        "print(arr.dtype)\n",
        "print(arr.shape)\n",
        "print(arr.ndim)\n",
        "print(arr.size)"
      ],
      "metadata": {
        "colab": {
          "base_uri": "https://localhost:8080/"
        },
        "id": "OZoak4eK5qmz",
        "outputId": "eca62bea-3f4f-4200-c9a5-1f79c37837ca"
      },
      "execution_count": null,
      "outputs": [
        {
          "output_type": "stream",
          "name": "stdout",
          "text": [
            "[[0.57128463 0.09251975 0.79136815]\n",
            " [0.96192157 0.41670521 0.6835917 ]]\n",
            "<class 'numpy.ndarray'>\n",
            "float64\n",
            "(2, 3)\n",
            "2\n",
            "6\n"
          ]
        }
      ]
    },
    {
      "cell_type": "code",
      "source": [
        "\n",
        "# np.random.randint(start,end, shape)\n",
        "\n",
        "arr = np.random.randint(1,10 , (2,3))\n",
        "\n",
        "print(arr)\n",
        "print(type(arr))\n",
        "print(arr.dtype)\n",
        "print(arr.shape)\n",
        "print(arr.ndim)\n",
        "print(arr.size)"
      ],
      "metadata": {
        "colab": {
          "base_uri": "https://localhost:8080/"
        },
        "id": "L3jRi1RR5u7r",
        "outputId": "d5e22789-1dca-4194-d25e-5fd1a66f276a"
      },
      "execution_count": null,
      "outputs": [
        {
          "output_type": "stream",
          "name": "stdout",
          "text": [
            "[[7 3 8]\n",
            " [7 9 2]]\n",
            "<class 'numpy.ndarray'>\n",
            "int64\n",
            "(2, 3)\n",
            "2\n",
            "6\n"
          ]
        }
      ]
    },
    {
      "cell_type": "code",
      "source": [
        "# np.random.uniform(start,end, shape)\n",
        "\n",
        "arr = np.random.uniform(50,100, (3,3,4))\n",
        "\n",
        "print(arr)\n",
        "print(type(arr))\n",
        "print(arr.dtype)\n",
        "print(arr.shape)\n",
        "print(arr.ndim)\n",
        "print(arr.size)"
      ],
      "metadata": {
        "colab": {
          "base_uri": "https://localhost:8080/"
        },
        "id": "wERya4BP5xcM",
        "outputId": "c7e4ff7f-f07e-4b79-ce9a-c2c177787b80"
      },
      "execution_count": null,
      "outputs": [
        {
          "output_type": "stream",
          "name": "stdout",
          "text": [
            "[[[76.25219814 91.89505763 91.21506894 80.68641632]\n",
            "  [55.21052012 91.21631253 99.69402295 76.02923859]\n",
            "  [91.93466725 72.50380959 70.45852371 75.68480006]]\n",
            "\n",
            " [[55.27752721 53.89024181 58.61449847 79.05244231]\n",
            "  [95.10594721 79.44111572 69.88700224 87.44046453]\n",
            "  [91.49055881 79.28394598 57.00097407 94.53618643]]\n",
            "\n",
            " [[65.16885747 74.94975673 96.27391179 61.65120617]\n",
            "  [87.59745418 86.13644135 88.46343183 95.54374288]\n",
            "  [67.08387979 81.10109515 83.90892922 69.2836626 ]]]\n",
            "<class 'numpy.ndarray'>\n",
            "float64\n",
            "(3, 3, 4)\n",
            "3\n",
            "36\n"
          ]
        }
      ]
    },
    {
      "cell_type": "markdown",
      "source": [
        "**array creation with range functions**"
      ],
      "metadata": {
        "id": "vSbbUpds50mC"
      }
    },
    {
      "cell_type": "code",
      "source": [
        "# np.arange(first , end , step ) -> similar to range function\n",
        "\n",
        "arr = np.arange(1 , 10 ,1 )\n",
        "mat = arr.reshape(3,3)\n",
        "\n",
        "print(arr)\n",
        "print(mat)\n",
        "print(type(arr))\n",
        "print(arr.dtype)\n",
        "print(arr.shape)\n",
        "print(arr.ndim)\n",
        "print(arr.size)"
      ],
      "metadata": {
        "colab": {
          "base_uri": "https://localhost:8080/"
        },
        "id": "GSygqnGU52ZT",
        "outputId": "4f822b49-de7a-4d92-a916-9509a288c07c"
      },
      "execution_count": null,
      "outputs": [
        {
          "output_type": "stream",
          "name": "stdout",
          "text": [
            "[1 2 3 4 5 6 7 8 9]\n",
            "[[1 2 3]\n",
            " [4 5 6]\n",
            " [7 8 9]]\n",
            "<class 'numpy.ndarray'>\n",
            "int64\n",
            "(9,)\n",
            "1\n",
            "9\n"
          ]
        }
      ]
    },
    {
      "cell_type": "code",
      "source": [
        "\n",
        "# np.linspace(start , end(included) , koita)\n",
        "\n",
        "arr = np.linspace(0, 4 ,6)\n",
        "\n",
        "\n",
        "print(arr)\n",
        "print(type(arr))\n",
        "print(arr.dtype)\n",
        "print(arr.shape)\n",
        "print(arr.ndim)\n",
        "print(arr.size)\n",
        "# np.logspace(start , end(included) , koita )\n",
        "\n",
        "arr = np.logspace(0 , 4 ,6, base =2)\n",
        "\n",
        "print(arr)"
      ],
      "metadata": {
        "colab": {
          "base_uri": "https://localhost:8080/"
        },
        "id": "yF5-JhBd57xe",
        "outputId": "123e572e-230b-4c86-d0f1-82b0185ac35c"
      },
      "execution_count": null,
      "outputs": [
        {
          "output_type": "stream",
          "name": "stdout",
          "text": [
            "[0.  0.8 1.6 2.4 3.2 4. ]\n",
            "<class 'numpy.ndarray'>\n",
            "float64\n",
            "(6,)\n",
            "1\n",
            "6\n",
            "[ 1.          1.74110113  3.03143313  5.27803164  9.18958684 16.        ]\n"
          ]
        }
      ]
    },
    {
      "cell_type": "markdown",
      "source": [
        "**indexing and slicing**"
      ],
      "metadata": {
        "id": "c1k7FsjE6Clr"
      }
    },
    {
      "cell_type": "code",
      "source": [
        "#indexing\n",
        "\n",
        "print(a1)\n",
        "print(a2)\n",
        "\n",
        "# arr1[2] = 100\n",
        "\n",
        "# print(arr1)\n",
        "a2[0][2]= 100\n",
        "\n",
        "print(a2)"
      ],
      "metadata": {
        "colab": {
          "base_uri": "https://localhost:8080/"
        },
        "id": "eJHI1GTE6ENL",
        "outputId": "e4a2eab2-ef4b-47ea-b0ba-582a8afd78c2"
      },
      "execution_count": null,
      "outputs": [
        {
          "output_type": "stream",
          "name": "stdout",
          "text": [
            "[1 2 3 4 5]\n",
            "[[1 2 3]\n",
            " [4 5 6]]\n",
            "[[  1   2 100]\n",
            " [  4   5   6]]\n"
          ]
        }
      ]
    },
    {
      "cell_type": "code",
      "source": [
        "#slicing\n",
        "#1d = a1[start:end:step]\n",
        "\n",
        "a1_mod = a1[1:4].copy()\n",
        "a1[1] = 2\n",
        "\n",
        "\n",
        "a1_mod[2] = 200\n",
        "print(a1_mod)\n",
        "print(a1)"
      ],
      "metadata": {
        "colab": {
          "base_uri": "https://localhost:8080/"
        },
        "id": "NnfKvV_S6K95",
        "outputId": "9c73ad65-7364-49b9-ecba-1801a145f018"
      },
      "execution_count": null,
      "outputs": [
        {
          "output_type": "stream",
          "name": "stdout",
          "text": [
            "[  2   3 200]\n",
            "[1 2 3 4 5]\n"
          ]
        }
      ]
    },
    {
      "cell_type": "code",
      "source": [
        "#2d slicing\n",
        "# arr[ row_start : row_end : step , column_start : column_end : step ]\n",
        "\n",
        "# print(a2)\n",
        "\n",
        "#getting a row\n",
        "\n",
        "row_0 = a2[0:1 ,]\n",
        "\n",
        "row_1= a2[1: , ]\n",
        "\n",
        "# print(row_0)\n",
        "# print(row_1)\n",
        "\n",
        "\n",
        "#getting a column\n",
        "\n",
        "col_0 = a2[:: ,0:1]\n",
        "col_1 = a2[::,1:2]\n",
        "\n",
        "print(col_0)\n",
        "print(col_1)\n",
        "\n",
        "#getting a portion\n",
        "\n",
        "\n",
        "portion = a2[:: , 0:2]\n",
        "\n",
        "print(portion)"
      ],
      "metadata": {
        "colab": {
          "base_uri": "https://localhost:8080/"
        },
        "id": "mEjie94M6Szf",
        "outputId": "d3edf540-6b6b-4453-e77c-109522ff4479"
      },
      "execution_count": null,
      "outputs": [
        {
          "output_type": "stream",
          "name": "stdout",
          "text": [
            "[[1]\n",
            " [4]]\n",
            "[[2]\n",
            " [5]]\n",
            "[[1 2]\n",
            " [4 5]]\n"
          ]
        }
      ]
    },
    {
      "cell_type": "markdown",
      "source": [
        "**Advanced Indexing**"
      ],
      "metadata": {
        "id": "njCvwX8s6X7u"
      }
    },
    {
      "cell_type": "code",
      "source": [
        "lst = np.array([ 10 , 20 ,30 ,40 ])\n",
        "\n",
        "values = lst[[0,3,1]]\n",
        "\n",
        "print(values)"
      ],
      "metadata": {
        "colab": {
          "base_uri": "https://localhost:8080/"
        },
        "id": "aypdZJkq6Xpj",
        "outputId": "2a46fce4-6bd0-4688-9374-a9053cb9c2e1"
      },
      "execution_count": null,
      "outputs": [
        {
          "output_type": "stream",
          "name": "stdout",
          "text": [
            "[10 40 20]\n"
          ]
        }
      ]
    },
    {
      "cell_type": "code",
      "source": [
        "print(a2)\n",
        "print(a2[[0,1] , [1,2]])\n",
        "\n",
        "# boolean kono kichu diye\n",
        "# print(a2[a1>1]) # Removed this line as it caused an IndexError\n",
        "a2[a2>2] = 0\n",
        "\n",
        "print(a2)"
      ],
      "metadata": {
        "colab": {
          "base_uri": "https://localhost:8080/"
        },
        "id": "XofAH7Ho6fU6",
        "outputId": "7459b117-9932-4b77-f3d0-b7161a0af8a1"
      },
      "execution_count": null,
      "outputs": [
        {
          "output_type": "stream",
          "name": "stdout",
          "text": [
            "[[  1   2 100]\n",
            " [  4   5   6]]\n",
            "[2 6]\n",
            "[[1 2 0]\n",
            " [0 0 0]]\n"
          ]
        }
      ]
    },
    {
      "cell_type": "code",
      "source": [
        "print(a2)"
      ],
      "metadata": {
        "colab": {
          "base_uri": "https://localhost:8080/"
        },
        "id": "73m7SGpm6kCh",
        "outputId": "8d86399c-33b7-490b-ae34-438f1e1cdcd1"
      },
      "execution_count": null,
      "outputs": [
        {
          "output_type": "stream",
          "name": "stdout",
          "text": [
            "[[1 2 0]\n",
            " [0 0 0]]\n"
          ]
        }
      ]
    },
    {
      "cell_type": "code",
      "source": [
        "rr  = np.array([[10,20,30] , [100,200,300] ] )\n",
        "\n",
        "# iteration\n",
        "print(a3)\n",
        "for i in np.nditer(a3):\n",
        "    print(i)"
      ],
      "metadata": {
        "colab": {
          "base_uri": "https://localhost:8080/"
        },
        "id": "ncwu8j4T6tvs",
        "outputId": "e58b6c29-581c-41c3-eeb0-20a10ae28f05"
      },
      "execution_count": null,
      "outputs": [
        {
          "output_type": "stream",
          "name": "stdout",
          "text": [
            "[[[1 2 3]\n",
            "  [4 5 6]]\n",
            "\n",
            " [[1 2 3]\n",
            "  [4 5 6]]\n",
            "\n",
            " [[1 2 3]\n",
            "  [4 5 6]]]\n",
            "1\n",
            "2\n",
            "3\n",
            "4\n",
            "5\n",
            "6\n",
            "1\n",
            "2\n",
            "3\n",
            "4\n",
            "5\n",
            "6\n",
            "1\n",
            "2\n",
            "3\n",
            "4\n",
            "5\n",
            "6\n"
          ]
        }
      ]
    },
    {
      "cell_type": "markdown",
      "source": [
        "**Moduel 12**"
      ],
      "metadata": {
        "id": "Y7T0JCfn7wXy"
      }
    },
    {
      "cell_type": "code",
      "source": [
        "import numpy as np\n",
        "\n",
        "arr = np.random.randint(1 ,100 , size =(10,5)) # sample - 10 , feature - 5\n",
        "\n",
        "arr.shape"
      ],
      "metadata": {
        "colab": {
          "base_uri": "https://localhost:8080/"
        },
        "id": "VdE87uCq7zsj",
        "outputId": "97f592ca-8720-46da-9130-7382410dd6de"
      },
      "execution_count": null,
      "outputs": [
        {
          "output_type": "execute_result",
          "data": {
            "text/plain": [
              "(10, 5)"
            ]
          },
          "metadata": {},
          "execution_count": 49
        }
      ]
    },
    {
      "cell_type": "code",
      "source": [
        "b = arr.reshape(5,10)\n",
        "\n",
        "b.shape\n",
        "b.ndim\n",
        "b"
      ],
      "metadata": {
        "colab": {
          "base_uri": "https://localhost:8080/"
        },
        "id": "NCFpIFoV77xZ",
        "outputId": "6564c76e-502d-4eec-ea60-b7358bf3cca1"
      },
      "execution_count": null,
      "outputs": [
        {
          "output_type": "execute_result",
          "data": {
            "text/plain": [
              "array([[ 1, 99, 23, 32, 33, 72, 84, 49,  1, 19],\n",
              "       [57, 51, 21, 40, 63, 86,  7, 14, 16, 18],\n",
              "       [27, 80, 40, 92, 90, 40, 13, 92, 77, 72],\n",
              "       [ 9, 30, 37, 71, 91, 16, 65, 63, 33, 47],\n",
              "       [22, 71, 42, 38, 47, 38, 73, 43, 49, 20]])"
            ]
          },
          "metadata": {},
          "execution_count": 50
        }
      ]
    },
    {
      "cell_type": "code",
      "source": [
        "\n",
        "flatten = b.flatten()\n",
        "print(flatten.ndim)\n",
        "flatten\n",
        "\n",
        "column_wise_flattening = np.ravel(b,order= 'C')\n",
        "\n",
        "print(column_wise_flattening)"
      ],
      "metadata": {
        "colab": {
          "base_uri": "https://localhost:8080/"
        },
        "id": "FOZH2BxH7-Gf",
        "outputId": "766fd367-aaa0-4c7c-910a-a622b47e7b7c"
      },
      "execution_count": null,
      "outputs": [
        {
          "output_type": "stream",
          "name": "stdout",
          "text": [
            "1\n",
            "[ 1 99 23 32 33 72 84 49  1 19 57 51 21 40 63 86  7 14 16 18 27 80 40 92\n",
            " 90 40 13 92 77 72  9 30 37 71 91 16 65 63 33 47 22 71 42 38 47 38 73 43\n",
            " 49 20]\n"
          ]
        }
      ]
    },
    {
      "cell_type": "code",
      "source": [
        "\n",
        "a = np.random.randint(1 ,10 , size =(2,3))\n",
        "b = np.random.randint(20 ,30 , size =(2,3))"
      ],
      "metadata": {
        "id": "zpjyIpHz8A2w"
      },
      "execution_count": null,
      "outputs": []
    },
    {
      "cell_type": "markdown",
      "source": [
        "**concatenate**"
      ],
      "metadata": {
        "id": "ydRNInKO8H4o"
      }
    },
    {
      "cell_type": "code",
      "source": [
        "con_row = np.concatenate((a,b),axis=0) # row wise\n",
        "\n",
        "print(con_row)\n",
        "\n",
        "con_col = np.concatenate((a,b), axis = 1) # column wise\n",
        "\n",
        "print(con_col)"
      ],
      "metadata": {
        "colab": {
          "base_uri": "https://localhost:8080/"
        },
        "id": "Ojr4-Xpp8OyA",
        "outputId": "70ffab72-03f1-4f4d-e830-02c344154c7f"
      },
      "execution_count": null,
      "outputs": [
        {
          "output_type": "stream",
          "name": "stdout",
          "text": [
            "[[ 1  2  7]\n",
            " [ 5  4  7]\n",
            " [23 25 23]\n",
            " [27 24 26]]\n",
            "[[ 1  2  7 23 25 23]\n",
            " [ 5  4  7 27 24 26]]\n"
          ]
        }
      ]
    },
    {
      "cell_type": "markdown",
      "source": [
        "**arithmetic operator and mathematical functions**"
      ],
      "metadata": {
        "id": "n8FGXqXG8WKK"
      }
    },
    {
      "cell_type": "code",
      "source": [
        "# faster for vectorization\n",
        "\n",
        "x = np.array([ 10 , 8 , 30 , 100 ])\n",
        "y = np.array([ 2 , 3 ,4  ,5 ])\n",
        "\n",
        "add = np.add(x,y)\n",
        "print(add)\n",
        "\n",
        "sub = x-y\n",
        "print(sub)\n",
        "\n",
        "mul = x*y\n",
        "print(mul)\n",
        "\n",
        "div = x/y\n",
        "print(div)\n",
        "\n",
        "remainder = x % y\n",
        "\n",
        "print(remainder)\n"
      ],
      "metadata": {
        "colab": {
          "base_uri": "https://localhost:8080/"
        },
        "id": "8aKY6ogR8YXH",
        "outputId": "971bcbf7-ff32-467e-9dcc-957d1a0b49b8"
      },
      "execution_count": null,
      "outputs": [
        {
          "output_type": "stream",
          "name": "stdout",
          "text": [
            "[ 12  11  34 105]\n",
            "[ 8  5 26 95]\n",
            "[ 20  24 120 500]\n",
            "[ 5.          2.66666667  7.5        20.        ]\n",
            "[0 2 2 0]\n"
          ]
        }
      ]
    },
    {
      "cell_type": "code",
      "source": [
        "# mathematical function\n",
        "\n",
        "# trigonometry\n",
        "\n",
        "# sin , cos , tan takes values in radian\n",
        "\n",
        "sin_val = np.sin(x)\n",
        "print(sin_val)\n",
        "\n",
        "cos_val = np.cos(x)\n",
        "print(cos_val)\n",
        "\n",
        "deg_con = np.rad2deg(x)\n",
        "print(deg_con)\n",
        "\n",
        "# deg2rad"
      ],
      "metadata": {
        "colab": {
          "base_uri": "https://localhost:8080/"
        },
        "id": "iD_0icwL8dvp",
        "outputId": "9c4ec326-69b4-4fb2-fb5c-3ff87bba8e6d"
      },
      "execution_count": null,
      "outputs": [
        {
          "output_type": "stream",
          "name": "stdout",
          "text": [
            "[-0.54402111  0.98935825 -0.98803162 -0.50636564]\n",
            "[-0.83907153 -0.14550003  0.15425145  0.86231887]\n",
            "[ 572.95779513  458.3662361  1718.87338539 5729.57795131]\n"
          ]
        }
      ]
    },
    {
      "cell_type": "code",
      "source": [
        "\n",
        "x = np.array([ 10 , 8 , 16 , 100 ])\n",
        "base_10_log_val = np.log10(x)\n",
        "print(base_10_log_val)\n",
        "\n",
        "\n",
        "two_diye_bhag = np.log2(x)\n",
        "print(two_diye_bhag)\n",
        "\n",
        "sqrt= np.sqrt(x)\n",
        "print(sqrt)"
      ],
      "metadata": {
        "colab": {
          "base_uri": "https://localhost:8080/"
        },
        "id": "OymfwEvG8hXp",
        "outputId": "eda96e29-4250-4655-f308-1cf12112f7b6"
      },
      "execution_count": null,
      "outputs": [
        {
          "output_type": "stream",
          "name": "stdout",
          "text": [
            "[1.         0.90308999 1.20411998 2.        ]\n",
            "[3.32192809 3.         4.         6.64385619]\n",
            "[ 3.16227766  2.82842712  4.         10.        ]\n"
          ]
        }
      ]
    },
    {
      "cell_type": "code",
      "source": [
        "# different\n",
        "s = np.sum(x)\n",
        "print(s)\n",
        "\n",
        "#prefix sum\n",
        "cumul =np.cumsum(x)\n",
        "print(cumul)"
      ],
      "metadata": {
        "colab": {
          "base_uri": "https://localhost:8080/"
        },
        "id": "3eQ8XLuA8j2y",
        "outputId": "ade61398-b482-4eab-f8b6-fdeb48b7b6c5"
      },
      "execution_count": null,
      "outputs": [
        {
          "output_type": "stream",
          "name": "stdout",
          "text": [
            "134\n",
            "[ 10  18  34 134]\n"
          ]
        }
      ]
    },
    {
      "cell_type": "markdown",
      "source": [
        "**Logical Function**"
      ],
      "metadata": {
        "id": "sPvftGe48pNf"
      }
    },
    {
      "cell_type": "code",
      "source": [
        "\n",
        "# comparison - >,< , >= ,<= , == , !=\n",
        "\n",
        "x = np.array([ 10 , 8 , 16 , 100 ])\n",
        "y = np.array([ 2 , 3 ,16  ,5 ])\n",
        "\n",
        "greater_than = x>y\n",
        "\n",
        "print(greater_than)\n",
        "\n",
        "equal = x==y\n",
        "\n",
        "print(equal)\n",
        "\n",
        "# all () -> shob true kina\n",
        "# any() -> jekono ekta true ase kina\n",
        "\n",
        "print(np.all(greater_than))\n",
        "\n",
        "print(np.any(equal))"
      ],
      "metadata": {
        "colab": {
          "base_uri": "https://localhost:8080/"
        },
        "id": "2_Njbr4S8rLf",
        "outputId": "f36925b7-1086-4088-c520-f386abd45a72"
      },
      "execution_count": null,
      "outputs": [
        {
          "output_type": "stream",
          "name": "stdout",
          "text": [
            "[ True  True False  True]\n",
            "[False False  True False]\n",
            "False\n",
            "True\n"
          ]
        }
      ]
    },
    {
      "cell_type": "markdown",
      "source": [
        "**Sorting**"
      ],
      "metadata": {
        "id": "NBDixpak8z36"
      }
    },
    {
      "cell_type": "code",
      "source": [
        "\n",
        "#inplace\n",
        "x = np.array([ 10 , 8 , 16 , 100 ])\n",
        "\n",
        "z = x.copy()\n",
        "\n",
        "print(z)\n",
        "\n",
        "z.sort()\n",
        "\n",
        "print(z)\n"
      ],
      "metadata": {
        "colab": {
          "base_uri": "https://localhost:8080/"
        },
        "id": "muvJ48-C82kw",
        "outputId": "3406f7cf-34db-4de7-ce07-960707e4d155"
      },
      "execution_count": null,
      "outputs": [
        {
          "output_type": "stream",
          "name": "stdout",
          "text": [
            "[ 10   8  16 100]\n",
            "[  8  10  16 100]\n"
          ]
        }
      ]
    },
    {
      "cell_type": "code",
      "source": [
        "# copy sorting\n",
        "print(x)\n",
        "sort_arr = np.sort(x)\n",
        "\n",
        "print(sort_arr)\n",
        "\n",
        "print(x)"
      ],
      "metadata": {
        "colab": {
          "base_uri": "https://localhost:8080/"
        },
        "id": "GTvOxgK7868C",
        "outputId": "9ddb1ed9-2db2-4572-ab91-db4b221e98fd"
      },
      "execution_count": null,
      "outputs": [
        {
          "output_type": "stream",
          "name": "stdout",
          "text": [
            "[ 10   8  16 100]\n",
            "[  8  10  16 100]\n",
            "[ 10   8  16 100]\n"
          ]
        }
      ]
    },
    {
      "cell_type": "code",
      "source": [
        "# 2d array sorting\n",
        "mat = np.array([[10,3,5],[8,4,9]])\n",
        "\n",
        "# horizon axis = 1\n",
        "\n",
        "hor_sort = np.sort(mat,axis=1)\n",
        "print(hor_sort)\n",
        "\n",
        "vert_sort = np.sort(mat,axis=0)\n",
        "print(vert_sort)"
      ],
      "metadata": {
        "colab": {
          "base_uri": "https://localhost:8080/"
        },
        "id": "hIP462PW89i2",
        "outputId": "0d524dfd-d4f0-448e-a1ba-77bce3fc1f8e"
      },
      "execution_count": null,
      "outputs": [
        {
          "output_type": "stream",
          "name": "stdout",
          "text": [
            "[[ 3  5 10]\n",
            " [ 4  8  9]]\n",
            "[[ 8  3  5]\n",
            " [10  4  9]]\n"
          ]
        }
      ]
    },
    {
      "cell_type": "markdown",
      "source": [
        "**Searching**"
      ],
      "metadata": {
        "id": "L6GLNLvO8_qJ"
      }
    },
    {
      "cell_type": "code",
      "source": [
        "# np.where( condition , x , y ) if true x , otherwise replace with y\n",
        "\n",
        "index = np.where(x==8) # returns index\n",
        "print(index)\n",
        "\n",
        "arr = np.where(x>8,x,0) # returns array\n",
        "print(arr)"
      ],
      "metadata": {
        "colab": {
          "base_uri": "https://localhost:8080/"
        },
        "id": "tnpJPLaU9BaQ",
        "outputId": "32847224-00d4-4cae-afaf-ff054d0d6009"
      },
      "execution_count": null,
      "outputs": [
        {
          "output_type": "stream",
          "name": "stdout",
          "text": [
            "(array([1]),)\n",
            "[ 10   0  16 100]\n"
          ]
        }
      ]
    },
    {
      "cell_type": "code",
      "source": [
        "index = np.where(mat>8) # returns index\n",
        "print(index)\n",
        "\n",
        "arr = np.where(mat>8,mat,0) # returns array\n",
        "print(arr)"
      ],
      "metadata": {
        "colab": {
          "base_uri": "https://localhost:8080/"
        },
        "id": "d6Tly2tc9GUo",
        "outputId": "a4ec7e99-39dd-49f2-e9c9-7984c9a63729"
      },
      "execution_count": null,
      "outputs": [
        {
          "output_type": "stream",
          "name": "stdout",
          "text": [
            "(array([0, 1]), array([0, 2]))\n",
            "[[10  0  0]\n",
            " [ 0  0  9]]\n"
          ]
        }
      ]
    },
    {
      "cell_type": "code",
      "source": [
        "x = np.array([ 10,100 , 8 , 16 , 100 ])\n",
        "\n",
        "maximum_value_indx = np.argmax(x)\n",
        "minimum_value_indx = np.argmin(x)\n",
        "\n",
        "print(maximum_value_indx)\n",
        "print(minimum_value_indx)"
      ],
      "metadata": {
        "colab": {
          "base_uri": "https://localhost:8080/"
        },
        "id": "YesfaKwk9I8T",
        "outputId": "9efb7a75-a708-4047-d4a2-7a8181cfc416"
      },
      "execution_count": null,
      "outputs": [
        {
          "output_type": "stream",
          "name": "stdout",
          "text": [
            "1\n",
            "2\n"
          ]
        }
      ]
    },
    {
      "cell_type": "markdown",
      "source": [
        "***counting in ndarray***"
      ],
      "metadata": {
        "id": "zxNoqi6H9M7P"
      }
    },
    {
      "cell_type": "code",
      "source": [
        "\n",
        "a = np.random.randint(1 ,100 , size =(100,))\n",
        "print(a)"
      ],
      "metadata": {
        "colab": {
          "base_uri": "https://localhost:8080/"
        },
        "id": "FAcH31x29PNm",
        "outputId": "0453325e-7728-4eb4-d2ff-6a4e07b16b3b"
      },
      "execution_count": null,
      "outputs": [
        {
          "output_type": "stream",
          "name": "stdout",
          "text": [
            "[ 1 69 96 64 65 50 46 88 59 57 23 66 83 57 72 80 86 84 74 36 58 52 47 33\n",
            " 23 79 70 81 69 73 71 90 19 65 65 20 14  9 91 26 22 98 79 62 74 17 17 56\n",
            " 83 26 23 93 23 76 29 51 34 35 42 71 64  5 81 11 69 61 79 30 94 45 94 40\n",
            " 89 23 70 47  3  2 14 82 98 30 66 70 64 51 40 40 60 77 14 12 54 33 62 32\n",
            "  7 11 89 80]\n"
          ]
        }
      ]
    },
    {
      "cell_type": "markdown",
      "source": [
        "**statistical function**"
      ],
      "metadata": {
        "id": "S8GdKHfx9TcO"
      }
    },
    {
      "cell_type": "code",
      "source": [
        "#data load\n",
        "\n",
        "data = np.genfromtxt('student_scores.csv' ,delimiter=',',skip_header=1)\n",
        "\n",
        "print(data)"
      ],
      "metadata": {
        "colab": {
          "base_uri": "https://localhost:8080/",
          "height": 391
        },
        "id": "B9Gfl-RU9VFf",
        "outputId": "6c8811cb-d0e5-4c1b-b0af-272c526b5a16"
      },
      "execution_count": null,
      "outputs": [
        {
          "output_type": "error",
          "ename": "FileNotFoundError",
          "evalue": "student_scores.csv not found.",
          "traceback": [
            "\u001b[0;31m---------------------------------------------------------------------------\u001b[0m",
            "\u001b[0;31mFileNotFoundError\u001b[0m                         Traceback (most recent call last)",
            "\u001b[0;32m/tmp/ipython-input-2031549058.py\u001b[0m in \u001b[0;36m<cell line: 0>\u001b[0;34m()\u001b[0m\n\u001b[1;32m      1\u001b[0m \u001b[0;31m#data load\u001b[0m\u001b[0;34m\u001b[0m\u001b[0;34m\u001b[0m\u001b[0m\n\u001b[1;32m      2\u001b[0m \u001b[0;34m\u001b[0m\u001b[0m\n\u001b[0;32m----> 3\u001b[0;31m \u001b[0mdata\u001b[0m \u001b[0;34m=\u001b[0m \u001b[0mnp\u001b[0m\u001b[0;34m.\u001b[0m\u001b[0mgenfromtxt\u001b[0m\u001b[0;34m(\u001b[0m\u001b[0;34m'student_scores.csv'\u001b[0m \u001b[0;34m,\u001b[0m\u001b[0mdelimiter\u001b[0m\u001b[0;34m=\u001b[0m\u001b[0;34m','\u001b[0m\u001b[0;34m,\u001b[0m\u001b[0mskip_header\u001b[0m\u001b[0;34m=\u001b[0m\u001b[0;36m1\u001b[0m\u001b[0;34m)\u001b[0m\u001b[0;34m\u001b[0m\u001b[0;34m\u001b[0m\u001b[0m\n\u001b[0m\u001b[1;32m      4\u001b[0m \u001b[0;34m\u001b[0m\u001b[0m\n\u001b[1;32m      5\u001b[0m \u001b[0mprint\u001b[0m\u001b[0;34m(\u001b[0m\u001b[0mdata\u001b[0m\u001b[0;34m)\u001b[0m\u001b[0;34m\u001b[0m\u001b[0;34m\u001b[0m\u001b[0m\n",
            "\u001b[0;32m/usr/local/lib/python3.12/dist-packages/numpy/lib/_npyio_impl.py\u001b[0m in \u001b[0;36mgenfromtxt\u001b[0;34m(fname, dtype, comments, delimiter, skip_header, skip_footer, converters, missing_values, filling_values, usecols, names, excludelist, deletechars, replace_space, autostrip, case_sensitive, defaultfmt, unpack, usemask, loose, invalid_raise, max_rows, encoding, ndmin, like)\u001b[0m\n\u001b[1;32m   1987\u001b[0m         \u001b[0mfname\u001b[0m \u001b[0;34m=\u001b[0m \u001b[0mos\u001b[0m\u001b[0;34m.\u001b[0m\u001b[0mfspath\u001b[0m\u001b[0;34m(\u001b[0m\u001b[0mfname\u001b[0m\u001b[0;34m)\u001b[0m\u001b[0;34m\u001b[0m\u001b[0;34m\u001b[0m\u001b[0m\n\u001b[1;32m   1988\u001b[0m     \u001b[0;32mif\u001b[0m \u001b[0misinstance\u001b[0m\u001b[0;34m(\u001b[0m\u001b[0mfname\u001b[0m\u001b[0;34m,\u001b[0m \u001b[0mstr\u001b[0m\u001b[0;34m)\u001b[0m\u001b[0;34m:\u001b[0m\u001b[0;34m\u001b[0m\u001b[0;34m\u001b[0m\u001b[0m\n\u001b[0;32m-> 1989\u001b[0;31m         \u001b[0mfid\u001b[0m \u001b[0;34m=\u001b[0m \u001b[0mnp\u001b[0m\u001b[0;34m.\u001b[0m\u001b[0mlib\u001b[0m\u001b[0;34m.\u001b[0m\u001b[0m_datasource\u001b[0m\u001b[0;34m.\u001b[0m\u001b[0mopen\u001b[0m\u001b[0;34m(\u001b[0m\u001b[0mfname\u001b[0m\u001b[0;34m,\u001b[0m \u001b[0;34m'rt'\u001b[0m\u001b[0;34m,\u001b[0m \u001b[0mencoding\u001b[0m\u001b[0;34m=\u001b[0m\u001b[0mencoding\u001b[0m\u001b[0;34m)\u001b[0m\u001b[0;34m\u001b[0m\u001b[0;34m\u001b[0m\u001b[0m\n\u001b[0m\u001b[1;32m   1990\u001b[0m         \u001b[0mfid_ctx\u001b[0m \u001b[0;34m=\u001b[0m \u001b[0mcontextlib\u001b[0m\u001b[0;34m.\u001b[0m\u001b[0mclosing\u001b[0m\u001b[0;34m(\u001b[0m\u001b[0mfid\u001b[0m\u001b[0;34m)\u001b[0m\u001b[0;34m\u001b[0m\u001b[0;34m\u001b[0m\u001b[0m\n\u001b[1;32m   1991\u001b[0m     \u001b[0;32melse\u001b[0m\u001b[0;34m:\u001b[0m\u001b[0;34m\u001b[0m\u001b[0;34m\u001b[0m\u001b[0m\n",
            "\u001b[0;32m/usr/local/lib/python3.12/dist-packages/numpy/lib/_datasource.py\u001b[0m in \u001b[0;36mopen\u001b[0;34m(path, mode, destpath, encoding, newline)\u001b[0m\n\u001b[1;32m    190\u001b[0m \u001b[0;34m\u001b[0m\u001b[0m\n\u001b[1;32m    191\u001b[0m     \u001b[0mds\u001b[0m \u001b[0;34m=\u001b[0m \u001b[0mDataSource\u001b[0m\u001b[0;34m(\u001b[0m\u001b[0mdestpath\u001b[0m\u001b[0;34m)\u001b[0m\u001b[0;34m\u001b[0m\u001b[0;34m\u001b[0m\u001b[0m\n\u001b[0;32m--> 192\u001b[0;31m     \u001b[0;32mreturn\u001b[0m \u001b[0mds\u001b[0m\u001b[0;34m.\u001b[0m\u001b[0mopen\u001b[0m\u001b[0;34m(\u001b[0m\u001b[0mpath\u001b[0m\u001b[0;34m,\u001b[0m \u001b[0mmode\u001b[0m\u001b[0;34m,\u001b[0m \u001b[0mencoding\u001b[0m\u001b[0;34m=\u001b[0m\u001b[0mencoding\u001b[0m\u001b[0;34m,\u001b[0m \u001b[0mnewline\u001b[0m\u001b[0;34m=\u001b[0m\u001b[0mnewline\u001b[0m\u001b[0;34m)\u001b[0m\u001b[0;34m\u001b[0m\u001b[0;34m\u001b[0m\u001b[0m\n\u001b[0m\u001b[1;32m    193\u001b[0m \u001b[0;34m\u001b[0m\u001b[0m\n\u001b[1;32m    194\u001b[0m \u001b[0;34m\u001b[0m\u001b[0m\n",
            "\u001b[0;32m/usr/local/lib/python3.12/dist-packages/numpy/lib/_datasource.py\u001b[0m in \u001b[0;36mopen\u001b[0;34m(self, path, mode, encoding, newline)\u001b[0m\n\u001b[1;32m    530\u001b[0m                                       encoding=encoding, newline=newline)\n\u001b[1;32m    531\u001b[0m         \u001b[0;32melse\u001b[0m\u001b[0;34m:\u001b[0m\u001b[0;34m\u001b[0m\u001b[0;34m\u001b[0m\u001b[0m\n\u001b[0;32m--> 532\u001b[0;31m             \u001b[0;32mraise\u001b[0m \u001b[0mFileNotFoundError\u001b[0m\u001b[0;34m(\u001b[0m\u001b[0;34mf\"{path} not found.\"\u001b[0m\u001b[0;34m)\u001b[0m\u001b[0;34m\u001b[0m\u001b[0;34m\u001b[0m\u001b[0m\n\u001b[0m\u001b[1;32m    533\u001b[0m \u001b[0;34m\u001b[0m\u001b[0m\n\u001b[1;32m    534\u001b[0m \u001b[0;34m\u001b[0m\u001b[0m\n",
            "\u001b[0;31mFileNotFoundError\u001b[0m: student_scores.csv not found."
          ]
        }
      ]
    },
    {
      "cell_type": "code",
      "source": [
        "# statistics\n",
        "math_marks = data[::,:1]\n",
        "\n",
        "print(math_marks.T)\n",
        "\n",
        "max_math_marks = np.max(math_marks)\n",
        "print(max_math_marks)\n",
        "\n",
        "min_math_marks = np.min(math_marks)\n",
        "print(min_math_marks)\n",
        "\n",
        "average_math_marks = np.mean(math_marks)\n",
        "print(average_math_marks)\n",
        "\n",
        "median_math_marks = np.median(math_marks)\n",
        "print(median_math_marks)\n",
        "\n",
        "# standard deviation\n",
        "\n",
        "std_math_marks = np.std(math_marks)\n",
        "print(std_math_marks)"
      ],
      "metadata": {
        "colab": {
          "base_uri": "https://localhost:8080/",
          "height": 211
        },
        "id": "j7deG5jD9cw3",
        "outputId": "32f5bbbd-01f1-4f88-997f-308ce2a05bb1"
      },
      "execution_count": null,
      "outputs": [
        {
          "output_type": "error",
          "ename": "NameError",
          "evalue": "name 'data' is not defined",
          "traceback": [
            "\u001b[0;31m---------------------------------------------------------------------------\u001b[0m",
            "\u001b[0;31mNameError\u001b[0m                                 Traceback (most recent call last)",
            "\u001b[0;32m/tmp/ipython-input-1341911781.py\u001b[0m in \u001b[0;36m<cell line: 0>\u001b[0;34m()\u001b[0m\n\u001b[1;32m      1\u001b[0m \u001b[0;31m# statistics\u001b[0m\u001b[0;34m\u001b[0m\u001b[0;34m\u001b[0m\u001b[0m\n\u001b[0;32m----> 2\u001b[0;31m \u001b[0mmath_marks\u001b[0m \u001b[0;34m=\u001b[0m \u001b[0mdata\u001b[0m\u001b[0;34m[\u001b[0m\u001b[0;34m:\u001b[0m\u001b[0;34m:\u001b[0m\u001b[0;34m,\u001b[0m\u001b[0;34m:\u001b[0m\u001b[0;36m1\u001b[0m\u001b[0;34m]\u001b[0m\u001b[0;34m\u001b[0m\u001b[0;34m\u001b[0m\u001b[0m\n\u001b[0m\u001b[1;32m      3\u001b[0m \u001b[0;34m\u001b[0m\u001b[0m\n\u001b[1;32m      4\u001b[0m \u001b[0mprint\u001b[0m\u001b[0;34m(\u001b[0m\u001b[0mmath_marks\u001b[0m\u001b[0;34m.\u001b[0m\u001b[0mT\u001b[0m\u001b[0;34m)\u001b[0m\u001b[0;34m\u001b[0m\u001b[0;34m\u001b[0m\u001b[0m\n\u001b[1;32m      5\u001b[0m \u001b[0;34m\u001b[0m\u001b[0m\n",
            "\u001b[0;31mNameError\u001b[0m: name 'data' is not defined"
          ]
        }
      ]
    },
    {
      "cell_type": "markdown",
      "source": [
        "**linear algebra**"
      ],
      "metadata": {
        "id": "Hs2ddrNe9iA1"
      }
    },
    {
      "cell_type": "code",
      "source": [
        "\n",
        "A = np.array([\n",
        "    [1, 2, 3],\n",
        "    [4, 5, 6]\n",
        "])\n",
        "\n",
        "B = np.array([\n",
        "    [7, 8],\n",
        "    [9, 10],\n",
        "    [11, 12]\n",
        "])\n",
        "\n",
        "# a er column and b er row same length hote hobe\n",
        "dot_product = np.dot(A,B)\n",
        "print(dot_product)\n",
        "\n",
        "\n",
        "# trace\n",
        "print(np.trace(B))\n",
        "\n",
        "\n",
        "#"
      ],
      "metadata": {
        "colab": {
          "base_uri": "https://localhost:8080/"
        },
        "id": "h1OXBC7X9k0P",
        "outputId": "6e007a83-585e-494e-857c-d67e53d8e558"
      },
      "execution_count": null,
      "outputs": [
        {
          "output_type": "stream",
          "name": "stdout",
          "text": [
            "[[ 58  64]\n",
            " [139 154]]\n",
            "17\n"
          ]
        }
      ]
    },
    {
      "cell_type": "code",
      "source": [
        "\n",
        "A = np.array([[1, 2], [3, 4]])\n",
        "B = np.array([[5, 6], [7, 8]])\n",
        "\n",
        "print(np.dot(A,B))"
      ],
      "metadata": {
        "colab": {
          "base_uri": "https://localhost:8080/"
        },
        "id": "yvbzt2Vr9rVa",
        "outputId": "09cf14c5-9b4c-4354-82f9-5086c958e8ff"
      },
      "execution_count": null,
      "outputs": [
        {
          "output_type": "stream",
          "name": "stdout",
          "text": [
            "[[19 22]\n",
            " [43 50]]\n"
          ]
        }
      ]
    }
  ]
}