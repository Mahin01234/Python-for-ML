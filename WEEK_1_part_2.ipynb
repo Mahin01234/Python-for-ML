{
 "cells": [
  {
   "cell_type": "markdown",
   "id": "74d58ef6",
   "metadata": {},
   "source": [
    "Part 8. String , Indexing and Slicing"
   ]
  },
  {
   "cell_type": "code",
   "execution_count": null,
   "id": "327dccfa-2409-4c70-bae7-518e9cfde4e5",
   "metadata": {},
   "outputs": [
    {
     "name": "stdout",
     "output_type": "stream",
     "text": [
      "What is your name ? \n",
      "<class 'str'>\n"
     ]
    }
   ],
   "source": [
    "\n",
    "prompt = \"What is your name ? \" \n",
    "\n",
    "print(prompt)\n",
    "print(type(prompt) )\n",
    "      "
   ]
  },
  {
   "cell_type": "code",
   "execution_count": 29,
   "id": "337f3a41-bcee-466e-b485-68a871ef05dd",
   "metadata": {},
   "outputs": [
    {
     "name": "stdout",
     "output_type": "stream",
     "text": [
      "ma i love you\n",
      "ma is best in the world\n",
      "ma everyday trsheied because she not rested\n",
      "\n"
     ]
    }
   ],
   "source": [
    "MA = \"\"\"ma i love you\n",
    "ma is best in the world\n",
    "ma everyday trsheied because she not rested\n",
    "\"\"\"\n",
    "\n",
    "print(MA)"
   ]
  },
  {
   "cell_type": "code",
   "execution_count": 14,
   "id": "9be196b3-8d19-4a03-82c9-0d8ee27c96af",
   "metadata": {},
   "outputs": [
    {
     "name": "stdout",
     "output_type": "stream",
     "text": [
      "o\n"
     ]
    }
   ],
   "source": [
    "String = \"Hello World\"\n",
    "print(String[7])\n"
   ]
  },
  {
   "cell_type": "code",
   "execution_count": 27,
   "id": "fb346f66-5aab-4e70-ab0f-7af6316e7ee1",
   "metadata": {},
   "outputs": [
    {
     "name": "stdout",
     "output_type": "stream",
     "text": [
      "ma i love you\n",
      "u\n"
     ]
    }
   ],
   "source": [
    "first = MA[0:13:1]\n",
    "print(first)\n",
    "print(first [-1] )"
   ]
  },
  {
   "cell_type": "markdown",
   "id": "ce788f27",
   "metadata": {},
   "source": [
    "Part 9. String Methods  "
   ]
  },
  {
   "cell_type": "code",
   "execution_count": 33,
   "id": "973bc2ca-b0a2-42b0-8b7f-f0018b46c0ed",
   "metadata": {},
   "outputs": [
    {
     "name": "stdout",
     "output_type": "stream",
     "text": [
      "52\n",
      "True\n",
      "Welcome to Phitron AI/ML Course , Phitron AI/ML , Hello AI/ML\n"
     ]
    }
   ],
   "source": [
    "# String Methods  \n",
    "\n",
    "\n",
    "string  = \"Welcome to Phitron ML Course , Phitron ML , Hello ML\" \n",
    "\n",
    "processed_string = string.lower()\n",
    "\n",
    "\n",
    "# length \n",
    "print(len(string))\n",
    "\n",
    "# word ase kina -> bool\n",
    "print(\"phitron\" in processed_string)\n",
    "\n",
    "# shurur kon index theke substring ta shuru hoise \n",
    "\n",
    "shuru_index = processed_string.find(\"phitron\")\n",
    "\n",
    "# shesher dike kon index theke substring ta shuru hoise \n",
    "shesh_index = processed_string.rfind(\"phitron\")\n",
    "\n",
    "\n",
    "## Substring koibar ase \n",
    "\n",
    "count = processed_string.count(\"phitron\")\n",
    "\n",
    "\n",
    "\n",
    "## replace a substring \n",
    "\n",
    "processed_string = string.replace(\"ML\", \"AI/ML\")\n",
    "\n",
    "\n",
    "print(processed_string)"
   ]
  },
  {
   "cell_type": "markdown",
   "id": "a682aeec",
   "metadata": {},
   "source": [
    "Part 10. String Splitting Joining and Formatting\n"
   ]
  },
  {
   "cell_type": "code",
   "execution_count": 34,
   "id": "f85f6cc5-c437-433d-9d81-8f509fc90758",
   "metadata": {},
   "outputs": [
    {
     "name": "stdout",
     "output_type": "stream",
     "text": [
      "<class 'list'>\n",
      "<class 'str'>\n"
     ]
    }
   ],
   "source": [
    "#  String Splitting Joining and Formatting\n",
    "\n",
    "\n",
    "prompt = \"what is Phitron ?\"\n",
    "\n",
    "tokens = prompt.split()\n",
    "\n",
    "print(type(tokens))\n",
    "\n",
    "\n",
    "sentence = \"-\".join(tokens)\n",
    "\n",
    "print(type(sentence))"
   ]
  },
  {
   "cell_type": "markdown",
   "id": "f036147b",
   "metadata": {},
   "source": [
    "Part 11. List and List Methods\n"
   ]
  },
  {
   "cell_type": "code",
   "execution_count": null,
   "id": "177e9d08-8b00-4aa8-91e9-e4d33d2f9403",
   "metadata": {},
   "outputs": [],
   "source": [
    "# List and List Methods\n",
    "\n",
    "\n",
    "name = \"Adil\" \n",
    "age = 23 \n",
    "height = 5.1123445\n",
    "\n",
    "info = f\"His name is {name.upper()}. He is {age} years old. He is {height:.3} feet tall.\\n\"\n",
    "\n",
    "\n",
    "\n",
    "model_accuracy = 0.83333 \n",
    "\n",
    "print(f\"the model accuracy is {model_accuracy}\")"
   ]
  },
  {
   "cell_type": "code",
   "execution_count": 40,
   "id": "76411b89-dc0c-4a05-a951-c995a4a2b250",
   "metadata": {},
   "outputs": [
    {
     "name": "stdout",
     "output_type": "stream",
     "text": [
      "[1, 2, 3, 4, 5, 6]\n",
      "3\n"
     ]
    }
   ],
   "source": [
    "numbers= [1 ,2,3,4,5,6]\n",
    "print(numbers) \n",
    "print(numbers[2])"
   ]
  },
  {
   "cell_type": "markdown",
   "id": "2e29c1a0",
   "metadata": {},
   "source": [
    "Part 12. modification"
   ]
  },
  {
   "cell_type": "code",
   "execution_count": 44,
   "id": "89b78502-1f87-448b-9465-16c3bddc04f4",
   "metadata": {},
   "outputs": [
    {
     "name": "stdout",
     "output_type": "stream",
     "text": [
      "[300, 300, 300, 1, 2, 3, 4, 5, 6, 80, 80]\n",
      "[300, 300, 300, 300, 1, 2, 3, 4, 5, 6, 80, 80]\n",
      "[300, 300, 300, 300, 1, 2, 3, 4, 5, 6, 80]\n",
      "[80, 6, 5, 4, 3, 2, 1, 300, 300, 300, 300]\n"
     ]
    }
   ],
   "source": [
    "# modification\n",
    "\n",
    "\n",
    "numbers.append (80) \n",
    "print(numbers) \n",
    "\n",
    "\n",
    "numbers.insert(0 , 300) \n",
    "print(numbers) \n",
    "\n",
    "# deleting\n",
    "numbers.pop()\n",
    "print (numbers)\n",
    "\n",
    "\n",
    "numbers.reverse()\n",
    "print (numbers)"
   ]
  },
  {
   "cell_type": "markdown",
   "id": "dda272fc",
   "metadata": {},
   "source": [
    "Part 13. List Comprehension "
   ]
  },
  {
   "cell_type": "code",
   "execution_count": 49,
   "id": "8525ead2-b3e9-46bd-a490-5a91a86528c4",
   "metadata": {},
   "outputs": [
    {
     "name": "stdout",
     "output_type": "stream",
     "text": [
      "[0, 2, 4, 6, 8, 10, 12, 14, 16, 18, 20, 22, 24, 26, 28, 30, 32, 34, 36, 38, 40, 42, 44, 46, 48, 50, 52, 54, 56, 58, 60, 62, 64, 66, 68, 70, 72, 74, 76, 78, 80, 82, 84, 86, 88, 90, 92, 94, 96, 98]\n"
     ]
    }
   ],
   "source": [
    "#  List Comprehension \n",
    "\n",
    "\n",
    "even = [] \n",
    "\n",
    "for i in range (100) :\n",
    "\n",
    "   if i % 2 == 0  : \n",
    "        even.append (i) \n",
    "\n",
    "\n",
    "print(even)\n"
   ]
  },
  {
   "cell_type": "code",
   "execution_count": 52,
   "id": "cc5c5daf-e9bd-47ef-9e70-bcb7ed02e1a0",
   "metadata": {},
   "outputs": [
    {
     "name": "stdout",
     "output_type": "stream",
     "text": [
      "[11, 13, 15, 17, 19, 21, 23, 25, 27, 29, 31, 33, 35, 37, 39, 41, 43, 45, 47, 49, 51, 53, 55, 57, 59, 61, 63, 65, 67, 69, 71, 73, 75, 77, 79, 81, 83, 85, 87, 89, 91, 93, 95, 97, 99, 101, 103, 105, 107, 109]\n"
     ]
    }
   ],
   "source": [
    "random_list = [x + 10 for x in range (1 , 101) if x % 2 != 0 ]\n",
    "\n",
    "print(random_list) "
   ]
  },
  {
   "cell_type": "code",
   "execution_count": 55,
   "id": "e1d09ff6-f9f5-467b-b6f8-c8016bb6e480",
   "metadata": {},
   "outputs": [
    {
     "name": "stdout",
     "output_type": "stream",
     "text": [
      "['apple', 'orange', 'banana']\n"
     ]
    }
   ],
   "source": [
    "fruits = ['Apple' , 'Orange' , 'Banana'] \n",
    "\n",
    "upper_fruits = [fruit.lower() for fruit in fruits ] \n",
    "\n",
    "print (upper_fruits) \n"
   ]
  },
  {
   "cell_type": "markdown",
   "id": "1ae771d4",
   "metadata": {},
   "source": [
    "Part 14. declaration"
   ]
  },
  {
   "cell_type": "code",
   "execution_count": 56,
   "id": "bef13ad8-0ab5-422e-9105-09ae4e1ae25f",
   "metadata": {},
   "outputs": [
    {
     "name": "stdout",
     "output_type": "stream",
     "text": [
      "<class 'tuple'> (10, 20, 30)\n"
     ]
    }
   ],
   "source": [
    "# moduel 5 \n",
    "# declaration \n",
    "\n",
    "tup = (10,20,30,40) \n",
    "\n",
    "float_tup = (10.5,10.2)\n",
    "mixed_tup = (10 , 10.5 , \"str\", True) \n",
    "\n",
    "\n",
    "lst = [10,20,30]\n",
    "\n",
    "tup1 = tuple(lst)\n",
    "\n",
    "print(type(tup1), tup1)"
   ]
  },
  {
   "cell_type": "code",
   "execution_count": 57,
   "id": "506ffb3e-2c93-4465-854c-05b9b238c9a9",
   "metadata": {},
   "outputs": [
    {
     "name": "stdout",
     "output_type": "stream",
     "text": [
      "10.5\n",
      "(10, 20, 30)\n"
     ]
    }
   ],
   "source": [
    "# Access \n",
    "tup = ( 10 , 20 , 30 , 10.5 , \"str\" , False )\n",
    "\n",
    "#index \n",
    "print(tup[3]) \n",
    "\n",
    "# slicing \n",
    "\n",
    "new_tup = tup[0:3]\n",
    "print(new_tup)"
   ]
  },
  {
   "cell_type": "code",
   "execution_count": 59,
   "id": "bd166f84-423d-4dad-b11b-243007a33f01",
   "metadata": {},
   "outputs": [
    {
     "name": "stdout",
     "output_type": "stream",
     "text": [
      "[10, 100, 30, 40, 60]\n"
     ]
    },
    {
     "ename": "TypeError",
     "evalue": "'tuple' object does not support item assignment",
     "output_type": "error",
     "traceback": [
      "\u001b[1;31m---------------------------------------------------------------------------\u001b[0m",
      "\u001b[1;31mTypeError\u001b[0m                                 Traceback (most recent call last)",
      "Cell \u001b[1;32mIn[59], line 10\u001b[0m\n\u001b[0;32m      8\u001b[0m \u001b[38;5;66;03m# immutable\u001b[39;00m\n\u001b[0;32m      9\u001b[0m \u001b[38;5;28mtuple\u001b[39m\u001b[38;5;241m=\u001b[39m ( \u001b[38;5;241m10\u001b[39m , \u001b[38;5;241m20\u001b[39m , \u001b[38;5;241m30\u001b[39m , \u001b[38;5;241m40\u001b[39m ) \n\u001b[1;32m---> 10\u001b[0m \u001b[38;5;28mtuple\u001b[39m[\u001b[38;5;241m1\u001b[39m]\u001b[38;5;241m=\u001b[39m \u001b[38;5;241m100\u001b[39m \n\u001b[0;32m     11\u001b[0m \u001b[38;5;28mprint\u001b[39m(\u001b[38;5;28mtuple\u001b[39m)\n",
      "\u001b[1;31mTypeError\u001b[0m: 'tuple' object does not support item assignment"
     ]
    }
   ],
   "source": [
    "# mutable\n",
    "\n",
    "lst = [ 10 , 20 , 30 , 40 ] \n",
    "lst.append(60)\n",
    "lst[1] = 100\n",
    "print(lst)\n",
    "\n",
    "# immutable\n",
    "tuple= ( 10 , 20 , 30 , 40 ) \n",
    "tuple[1]= 100 \n",
    "print(tuple) "
   ]
  },
  {
   "cell_type": "code",
   "execution_count": 60,
   "id": "d26947b6-d645-4b5e-8b99-23b0dec00201",
   "metadata": {},
   "outputs": [
    {
     "name": "stdout",
     "output_type": "stream",
     "text": [
      "3\n",
      "3\n"
     ]
    }
   ],
   "source": [
    "# tuple method \n",
    "tup= ( 10 , 20 , 30 , 40 , 10 , 20 , 30 ,10 )\n",
    "\n",
    "print(tup.count(10))\n",
    "print(tup.index(40))"
   ]
  }
 ],
 "metadata": {
  "kernelspec": {
   "display_name": "Python [conda env:base] *",
   "language": "python",
   "name": "conda-base-py"
  },
  "language_info": {
   "codemirror_mode": {
    "name": "ipython",
    "version": 3
   },
   "file_extension": ".py",
   "mimetype": "text/x-python",
   "name": "python",
   "nbconvert_exporter": "python",
   "pygments_lexer": "ipython3",
   "version": "3.13.5"
  }
 },
 "nbformat": 4,
 "nbformat_minor": 5
}
