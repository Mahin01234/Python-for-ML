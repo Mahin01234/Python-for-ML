{
 "cells": [
  {
   "cell_type": "markdown",
   "id": "8c2faa98",
   "metadata": {},
   "source": [
    "MODUEL 1\n"
   ]
  },
  {
   "cell_type": "markdown",
   "id": "bbf2d1ad",
   "metadata": {},
   "source": [
    "Part 1. Variables and Data Type in Python"
   ]
  },
  {
   "cell_type": "code",
   "execution_count": 33,
   "id": "3c9fa3cf",
   "metadata": {},
   "outputs": [
    {
     "name": "stdout",
     "output_type": "stream",
     "text": [
      "hellloworld\n"
     ]
    }
   ],
   "source": [
    "print(\"hellloworld\")"
   ]
  },
  {
   "cell_type": "code",
   "execution_count": 34,
   "id": "06a747d7",
   "metadata": {},
   "outputs": [
    {
     "name": "stdout",
     "output_type": "stream",
     "text": [
      "1234550\n"
     ]
    }
   ],
   "source": [
    "Number = 1234550\n",
    "print (Number) \n"
   ]
  },
  {
   "cell_type": "code",
   "execution_count": 35,
   "id": "5b6df010",
   "metadata": {},
   "outputs": [
    {
     "name": "stdout",
     "output_type": "stream",
     "text": [
      "<class 'str'>\n",
      "<class 'int'>\n",
      "<class 'bool'>\n",
      "<class 'float'>\n",
      "5\n"
     ]
    }
   ],
   "source": [
    "Name = \"Bagladesh\"\n",
    "age = 12 \n",
    "hight = 5.6\n",
    "is_passed = True \n",
    "print(type  (Name))\n",
    "print(type (age)) \n",
    "print(type (is_passed) )\n",
    "print(type (hight))\n",
    "\n",
    "\n",
    "\n",
    "hight1 = 5.6 \n",
    "print(int(hight1))\n",
    "\n"
   ]
  },
  {
   "cell_type": "markdown",
   "id": "9c1b0ccb",
   "metadata": {},
   "source": [
    "Part 2. Taking Input in Python"
   ]
  },
  {
   "cell_type": "code",
   "execution_count": 37,
   "id": "cd7bcbe3",
   "metadata": {},
   "outputs": [
    {
     "name": "stdout",
     "output_type": "stream",
     "text": [
      "Mahin\n",
      "<class 'str'>\n",
      "1\n",
      "<class 'str'>\n",
      "Srt convert to int :  1\n"
     ]
    }
   ],
   "source": [
    "name = input (\"What is your name : \") \n",
    "print (name) \n",
    "print (type(name)) \n",
    "\n",
    "age = input (\"Age : \") \n",
    "print(age) \n",
    "print(type (age)) \n",
    "\n",
    "\n",
    "# str convert to int\n",
    "print(\"Srt convert to int : \" , age)\n",
    "\n"
   ]
  },
  {
   "cell_type": "markdown",
   "id": "f5da8bdd",
   "metadata": {},
   "source": [
    "Part 3. Operators in Python\n"
   ]
  },
  {
   "cell_type": "code",
   "execution_count": 47,
   "id": "8283b85e",
   "metadata": {},
   "outputs": [
    {
     "name": "stdout",
     "output_type": "stream",
     "text": [
      "12 8 20 5.0 0\n"
     ]
    }
   ],
   "source": [
    "X = 10 ; Y = 2\n",
    "\n",
    "Sum = X + Y \n",
    "Sub = X - Y \n",
    "Mult = X * Y \n",
    "Div = round ( (X / Y) , 2 )  \n",
    "Rem = X % Y \n",
    "\n",
    "\n",
    "print(Sum , Sub , Mult , Div , Rem)"
   ]
  },
  {
   "cell_type": "markdown",
   "id": "a4cb5508",
   "metadata": {},
   "source": [
    "Part 4. Logical Operator and Precendence, Associativity"
   ]
  },
  {
   "cell_type": "code",
   "execution_count": 48,
   "id": "4e53ae25",
   "metadata": {},
   "outputs": [
    {
     "name": "stdout",
     "output_type": "stream",
     "text": [
      "True True\n",
      "False True\n",
      "False\n",
      "True\n"
     ]
    }
   ],
   "source": [
    "x = 12 ; y = 2 \n",
    "\n",
    "\n",
    "\n",
    "\n",
    "#1\n",
    "greater_then = x > y \n",
    "greater_then_or_equal = (100 >= 100) \n",
    "print(greater_then , greater_then_or_equal) \n",
    "\n",
    "\n",
    "\n",
    "#2\n",
    "less_then = x < y \n",
    "less_then_or_equal = (100 <= 100) \n",
    "print(less_then , less_then_or_equal)  \n",
    "\n",
    "\n",
    "\n",
    "\n",
    "#3 \n",
    "equal_equal = (x == y) \n",
    "print(equal_equal) \n",
    "\n",
    "\n",
    "\n",
    "\n",
    "\n",
    "#4 \n",
    "not_equal = ( x != y) \n",
    "print(not_equal) \n"
   ]
  },
  {
   "cell_type": "code",
   "execution_count": 49,
   "id": "2b8abf8c",
   "metadata": {},
   "outputs": [
    {
     "name": "stdout",
     "output_type": "stream",
     "text": [
      "False\n"
     ]
    }
   ],
   "source": [
    "x = 10 ; y = 5 ; z = 15\n",
    "\n",
    "result = (x > y) and (x > z) and (y > z) \n",
    "\n",
    "print(result) "
   ]
  },
  {
   "cell_type": "code",
   "execution_count": 50,
   "id": "50d3f4f1",
   "metadata": {},
   "outputs": [
    {
     "name": "stdout",
     "output_type": "stream",
     "text": [
      "True\n"
     ]
    }
   ],
   "source": [
    "x = 10 ; y = 5 ; z = 15\n",
    "\n",
    "result = (x > y) or (x > z) or (y > z) \n",
    "\n",
    "print(result) "
   ]
  },
  {
   "cell_type": "code",
   "execution_count": 51,
   "id": "5149a465",
   "metadata": {},
   "outputs": [
    {
     "name": "stdout",
     "output_type": "stream",
     "text": [
      "False\n"
     ]
    }
   ],
   "source": [
    "x = 10 ; y = 30 ; z = 15\n",
    "\n",
    "result = (x > y) and (x > z) and (y > z) \n",
    "\n",
    "print(result) "
   ]
  },
  {
   "cell_type": "markdown",
   "id": "a20870a0",
   "metadata": {},
   "source": [
    "Part 5. Conditionals statement in Python"
   ]
  },
  {
   "cell_type": "code",
   "execution_count": 79,
   "id": "30fc3376",
   "metadata": {},
   "outputs": [
    {
     "name": "stdout",
     "output_type": "stream",
     "text": [
      "Go university\n"
     ]
    }
   ],
   "source": [
    "Raining = False\n",
    "Bus = \"Yes\"\n",
    "\n",
    "if Raining == True:\n",
    "    print(\"No university\")\n",
    "\n",
    "elif Bus == \"No\":\n",
    "    print(\"Walk university and take save\")\n",
    "\n",
    "else:\n",
    "    print(\"Go university\")\n"
   ]
  },
  {
   "cell_type": "markdown",
   "id": "a0cf9ee4",
   "metadata": {},
   "source": [
    "Part 6. For loop\n"
   ]
  },
  {
   "cell_type": "code",
   "execution_count": 97,
   "id": "bd7dad3a",
   "metadata": {},
   "outputs": [
    {
     "name": "stdout",
     "output_type": "stream",
     "text": [
      "0 Hello\n",
      "1 Hello\n",
      "2 Hello\n",
      "3 Hello\n",
      "4 Hello\n",
      "5 Hello\n",
      "6 Hello\n",
      "7 Hello\n",
      "8 Hello\n",
      "9 Hello\n",
      "10 Hello\n",
      "11 Hello\n",
      "12 Hello\n",
      "13 Hello\n",
      "1 Hello World\n",
      "2 Hello World\n",
      "3 Hello World\n",
      "4 Hello World\n",
      "1 Hello Bangladesh\n",
      "3 Hello Bangladesh\n",
      "5 Hello Bangladesh\n"
     ]
    },
    {
     "data": {
      "text/plain": [
       "[0, 1, 2, 3, 4, 5]"
      ]
     },
     "execution_count": 97,
     "metadata": {},
     "output_type": "execute_result"
    }
   ],
   "source": [
    "# range (step)\n",
    "for i in range (14) :\n",
    "    print(i , \"Hello\") \n",
    "\n",
    "list (range (14) )    \n",
    "\n",
    "\n",
    "# range (star , step)\n",
    "for i in range (1 , 5) :\n",
    "    print (i , \"Hello World\") \n",
    "\n",
    "list (range (5)) \n",
    "\n",
    "\n",
    "\n",
    "# range (star , end , step) \n",
    "for i in range (1 , 6 , 2) :\n",
    "    print (i , \"Hello Bangladesh\") \n",
    "\n",
    "list (range (6) ) \n",
    "\n"
   ]
  },
  {
   "cell_type": "code",
   "execution_count": 102,
   "id": "bf1887ad",
   "metadata": {},
   "outputs": [
    {
     "name": "stdout",
     "output_type": "stream",
     "text": [
      "1 1\n",
      "1 2\n",
      "2 1\n",
      "2 2\n",
      "3 1\n",
      "3 2\n",
      "4 1\n",
      "4 2\n"
     ]
    }
   ],
   "source": [
    "for i in range (1 , 5) :\n",
    "    for j in range (1, 3) :\n",
    "        print(i , j)"
   ]
  },
  {
   "cell_type": "markdown",
   "id": "37fe1c88",
   "metadata": {},
   "source": [
    "Part 7 : While Loop "
   ]
  },
  {
   "cell_type": "code",
   "execution_count": 106,
   "id": "cac1562c",
   "metadata": {},
   "outputs": [
    {
     "name": "stdout",
     "output_type": "stream",
     "text": [
      "1 Heelo \n",
      "2 Heelo \n",
      "3 Heelo \n",
      "4 Heelo \n",
      "5 Heelo \n",
      "6 Heelo \n",
      "7 Heelo \n",
      "8 Heelo \n",
      "9 Heelo \n"
     ]
    }
   ],
   "source": [
    "count = 1 \n",
    "\n",
    "while count < 10 :\n",
    "    print (count , \"Heelo \") \n",
    "    count = count + 1 "
   ]
  },
  {
   "cell_type": "code",
   "execution_count": null,
   "id": "e8640ecf",
   "metadata": {},
   "outputs": [
    {
     "name": "stdout",
     "output_type": "stream",
     "text": [
      "1 is prossec\n",
      "2 is prossec\n",
      "3 is prossec\n",
      "4 is prossec\n",
      "5 is prossec\n",
      "6 is prossec\n",
      "7 is prossec\n",
      "8 is prossec\n",
      "9 is prossec\n",
      "10 is prossec\n",
      "10 Sum\n"
     ]
    }
   ],
   "source": [
    "# Continue\n",
    "\n",
    "sum = 0 \n",
    "\n",
    "for i in range (1 , 11) :\n",
    "    print (i , \"is prossec\") \n",
    "\n",
    "\n",
    "    if i % 2 == 0 :\n",
    "        continue\n",
    "\n",
    "sum += i \n",
    "    \n",
    "print(i , \"Sum\")  \n"
   ]
  },
  {
   "cell_type": "code",
   "execution_count": null,
   "id": "95929920",
   "metadata": {},
   "outputs": [
    {
     "name": "stdout",
     "output_type": "stream",
     "text": [
      "6\n",
      "7\n",
      "8\n",
      "9\n",
      "10\n"
     ]
    }
   ],
   "source": [
    "# break \n",
    "\n",
    "a = 5\n",
    "\n",
    "for i in range (10) :\n",
    "    a += 1 \n",
    "    print(a) \n",
    "\n",
    "    if a == 10 :\n",
    "        break \n"
   ]
  },
  {
   "cell_type": "code",
   "execution_count": 125,
   "id": "5cda1311",
   "metadata": {},
   "outputs": [
    {
     "name": "stdout",
     "output_type": "stream",
     "text": [
      "Condition met, breaking the loop!\n"
     ]
    }
   ],
   "source": [
    "change = False\n",
    "a = 10\n",
    "\n",
    "while True:\n",
    "\n",
    "\n",
    "    if change == False and a == 10:\n",
    "\n",
    "\n",
    "        print(\"Condition met, breaking the loop!\")\n",
    "        break\n",
    "\n",
    "\n",
    "    print(\"Loop running\")  \n",
    "    a += 1  \n"
   ]
  }
 ],
 "metadata": {
  "kernelspec": {
   "display_name": "Python 3",
   "language": "python",
   "name": "python3"
  },
  "language_info": {
   "codemirror_mode": {
    "name": "ipython",
    "version": 3
   },
   "file_extension": ".py",
   "mimetype": "text/x-python",
   "name": "python",
   "nbconvert_exporter": "python",
   "pygments_lexer": "ipython3",
   "version": "3.13.7"
  }
 },
 "nbformat": 4,
 "nbformat_minor": 5
}
