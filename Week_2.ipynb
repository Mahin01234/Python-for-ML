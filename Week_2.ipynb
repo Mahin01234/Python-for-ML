{
 "cells": [
  {
   "cell_type": "code",
   "execution_count": 2,
   "id": "c164d5f2",
   "metadata": {},
   "outputs": [
    {
     "name": "stdout",
     "output_type": "stream",
     "text": [
      "hello\n"
     ]
    }
   ],
   "source": [
    "def great():\n",
    "    print(\"hello\")\n",
    "\n",
    "# ফাংশন কল করা\n",
    "great()\n"
   ]
  },
  {
   "cell_type": "markdown",
   "id": "9e660acf",
   "metadata": {},
   "source": [
    "Function Parameters"
   ]
  },
  {
   "cell_type": "code",
   "execution_count": 5,
   "id": "3652afd2",
   "metadata": {},
   "outputs": [
    {
     "name": "stdout",
     "output_type": "stream",
     "text": [
      "hello Mahin \n"
     ]
    }
   ],
   "source": [
    "def great (user) :\n",
    "    print(f\"hello {user} \" ) \n",
    "\n",
    "\n",
    "# argument\n",
    "great(\"Mahin\") \n"
   ]
  },
  {
   "cell_type": "code",
   "execution_count": 15,
   "id": "2c1accac",
   "metadata": {},
   "outputs": [
    {
     "name": "stdout",
     "output_type": "stream",
     "text": [
      "10 20 30\n",
      "540\n",
      "30 10 20\n",
      "1030\n"
     ]
    }
   ],
   "source": [
    "def square_addition(a,b,c):\n",
    "    print(f\"{a} {b} {c}\")\n",
    "    a=a**2 \n",
    "    b= b**2 \n",
    "    return a+b+c \n",
    "#positional argument\n",
    "ans = square_addition(10,20,30) + 10 \n",
    "print(ans) \n",
    "\n",
    "#keyword argument\n",
    "ans = square_addition(b=10,c=20,a=30) + 10 \n",
    "print(ans) "
   ]
  },
  {
   "cell_type": "code",
   "execution_count": 16,
   "id": "63b61a37",
   "metadata": {},
   "outputs": [
    {
     "name": "stdout",
     "output_type": "stream",
     "text": [
      "5500\n"
     ]
    }
   ],
   "source": [
    "def square_addition(*args):\n",
    "    summation =0 \n",
    "    for i in args:\n",
    "        i = i**2 \n",
    "        summation+=i\n",
    "    return summation          \n",
    "ans = square_addition(10,20,30,40,50)\n",
    "print(ans)"
   ]
  },
  {
   "cell_type": "code",
   "execution_count": 20,
   "id": "01a59950",
   "metadata": {},
   "outputs": [
    {
     "name": "stdout",
     "output_type": "stream",
     "text": [
      "name : adil\n",
      "cls : 10\n",
      "roll : 30\n",
      "marks : 30.5\n"
     ]
    }
   ],
   "source": [
    "def student(**kwargs): \n",
    "    for key,val in kwargs.items():\n",
    "        print(f\"{key} : {val}\")  \n",
    "\n",
    "\n",
    "\n",
    "\n",
    "\n",
    "student(name = \"adil\" , cls =10 , roll=30 , marks = 30.5) \n",
    "\n"
   ]
  },
  {
   "cell_type": "markdown",
   "id": "435c61cf",
   "metadata": {},
   "source": [
    "\n",
    "return\n"
   ]
  },
  {
   "cell_type": "code",
   "execution_count": 21,
   "id": "bf82d465",
   "metadata": {},
   "outputs": [
    {
     "data": {
      "text/plain": [
       "int"
      ]
     },
     "execution_count": 21,
     "metadata": {},
     "output_type": "execute_result"
    }
   ],
   "source": [
    "\n",
    "def give_prediction():\n",
    "    return 10 \n",
    "\n",
    "type(give_prediction())"
   ]
  },
  {
   "cell_type": "code",
   "execution_count": 22,
   "id": "b025fe34",
   "metadata": {},
   "outputs": [
    {
     "data": {
      "text/plain": [
       "float"
      ]
     },
     "execution_count": 22,
     "metadata": {},
     "output_type": "execute_result"
    }
   ],
   "source": [
    "\n",
    "def give_prediction():\n",
    "    return 10.5 \n",
    "\n",
    "type(give_prediction())"
   ]
  },
  {
   "cell_type": "code",
   "execution_count": 23,
   "id": "e4abafc5",
   "metadata": {},
   "outputs": [
    {
     "data": {
      "text/plain": [
       "str"
      ]
     },
     "execution_count": 23,
     "metadata": {},
     "output_type": "execute_result"
    }
   ],
   "source": [
    "\n",
    "def give_prediction():\n",
    "    return \"name\" \n",
    "\n",
    "type(give_prediction())"
   ]
  },
  {
   "cell_type": "code",
   "execution_count": 24,
   "id": "de668696",
   "metadata": {},
   "outputs": [
    {
     "name": "stdout",
     "output_type": "stream",
     "text": [
      "(10, 30)\n",
      "10 30\n"
     ]
    }
   ],
   "source": [
    "def give_prediction(a,b):\n",
    "\n",
    "    return a,b \n",
    "\n",
    "type(give_prediction(10,30))\n",
    "\n",
    "print(give_prediction(10,30))\n",
    "\n",
    "## unpacking \n",
    "\n",
    "x , y = give_prediction(10,30)\n",
    "\n",
    "print(x,y)"
   ]
  },
  {
   "cell_type": "code",
   "execution_count": 25,
   "id": "c7461582",
   "metadata": {},
   "outputs": [
    {
     "name": "stdout",
     "output_type": "stream",
     "text": [
      "[10, 20, 30]\n",
      "[20, 30, 40]\n"
     ]
    }
   ],
   "source": [
    "def give_prediction():\n",
    "\n",
    "    a= [10,20,30]\n",
    "    b= [20,30,40]\n",
    "    return a,b \n",
    "\n",
    "type(give_prediction())\n",
    "\n",
    "## unpacking \n",
    "x , y = give_prediction()\n",
    "\n",
    "print(x)\n",
    "print(y)"
   ]
  },
  {
   "cell_type": "code",
   "execution_count": 26,
   "id": "052486fb",
   "metadata": {},
   "outputs": [
    {
     "name": "stdout",
     "output_type": "stream",
     "text": [
      "<class 'tuple'>\n",
      "{10, 20, 30}\n",
      "[100, 200, 300]\n"
     ]
    }
   ],
   "source": [
    "\n",
    "def give_prediction():\n",
    "\n",
    "    a= {10,20,30}\n",
    "    b = [100,200,300]\n",
    "    return a,b \n",
    "\n",
    "x = give_prediction()\n",
    "\n",
    "print(type(x))\n",
    "\n",
    "for item in x:\n",
    "    print(item)"
   ]
  },
  {
   "cell_type": "code",
   "execution_count": 27,
   "id": "c7886d51",
   "metadata": {},
   "outputs": [
    {
     "name": "stdout",
     "output_type": "stream",
     "text": [
      "<class 'dict'>\n",
      "('name', 'adil')\n",
      "('addr', 'Ctg')\n"
     ]
    }
   ],
   "source": [
    "\n",
    "def give_prediction():\n",
    "    return { \"name\" : \"adil\" , \"addr\" : \"Ctg\"},{ \"name\" : \"abrar\" , \"addr\" : \"dhaka\"}\n",
    "\n",
    "\n",
    "x,y = give_prediction()\n",
    "\n",
    "print(type(x))\n",
    "\n",
    "\n",
    "for item in x.items():\n",
    "    print(item) "
   ]
  },
  {
   "cell_type": "markdown",
   "id": "26a0ca43",
   "metadata": {},
   "source": [
    "\n",
    "iterator"
   ]
  },
  {
   "cell_type": "code",
   "execution_count": 28,
   "id": "790bef1b",
   "metadata": {},
   "outputs": [
    {
     "name": "stdout",
     "output_type": "stream",
     "text": [
      "50\n",
      "20\n",
      "40\n",
      "10\n",
      "30\n",
      "50\n",
      "20\n",
      "40\n",
      "10\n",
      "30\n"
     ]
    }
   ],
   "source": [
    "\n",
    "s = {10 , 20 , 30 , 40 , 50 }\n",
    "\n",
    "s_iter = iter(s) \n",
    "print(next(s_iter))\n",
    "print(next(s_iter))\n",
    "print(next(s_iter))\n",
    "print(next(s_iter))\n",
    "print(next(s_iter))\n",
    "\n",
    "for i in s:\n",
    "    print(i) "
   ]
  },
  {
   "cell_type": "markdown",
   "id": "de1b8de8",
   "metadata": {},
   "source": [
    "\n",
    "generator"
   ]
  },
  {
   "cell_type": "code",
   "execution_count": 29,
   "id": "e2410e10",
   "metadata": {},
   "outputs": [
    {
     "name": "stdout",
     "output_type": "stream",
     "text": [
      "[0, 1, 2, 3, 4]\n",
      "[5, 6, 7, 8, 9]\n"
     ]
    }
   ],
   "source": [
    "\n",
    "lst = [ x for x in range(500) ] # dataset \n",
    "\n",
    "def data_loader(chunk_size,lst):\n",
    "    for i in range(0,len(lst),chunk_size):\n",
    "        yield lst[i:i+chunk_size]\n",
    "\n",
    "\n",
    "x = data_loader(5,lst) \n",
    "\n",
    "print(next(x))\n",
    "print(next(x))"
   ]
  },
  {
   "cell_type": "markdown",
   "id": "538f2bf9",
   "metadata": {},
   "source": [
    "\n",
    "Lambda function"
   ]
  },
  {
   "cell_type": "code",
   "execution_count": 30,
   "id": "07293145",
   "metadata": {},
   "outputs": [
    {
     "name": "stdout",
     "output_type": "stream",
     "text": [
      "13\n"
     ]
    }
   ],
   "source": [
    "\n",
    "def square_addition(x,y):\n",
    "    return x**2 + y**2 \n",
    "\n",
    "\n",
    "sq_add = lambda x,y : x**2 + y**2 \n",
    "\n",
    "print( sq_add(2,3))"
   ]
  },
  {
   "cell_type": "markdown",
   "id": "12ed5af9",
   "metadata": {},
   "source": [
    "\n",
    "map"
   ]
  },
  {
   "cell_type": "code",
   "execution_count": 31,
   "id": "6bce18b1",
   "metadata": {},
   "outputs": [
    {
     "name": "stdout",
     "output_type": "stream",
     "text": [
      "[1, 4, 9, 16, 25, 36]\n"
     ]
    }
   ],
   "source": [
    "\n",
    "lst = [ 1 ,2 ,3 ,4 ,5 ,6 ]\n",
    "\n",
    "def square(x):\n",
    "    return x**2 \n",
    "\n",
    "lst = list(map(square ,lst))\n",
    "\n",
    "print(lst)"
   ]
  },
  {
   "cell_type": "code",
   "execution_count": 32,
   "id": "1e506ee0",
   "metadata": {},
   "outputs": [
    {
     "name": "stdout",
     "output_type": "stream",
     "text": [
      "['H', 'E', 'L', 'L', 'O', ' ', 'W', 'O', 'R', 'L', 'D', ',', ' ', 'W', 'E', 'L', 'C', 'O', 'M', 'E', ' ', 'T', 'O', ' ', 'T', 'H', 'E', ' ', 'A', 'G', 'E', ' ', 'O', 'F', ' ', 'A', 'I']\n",
      "H E L L O   W O R L D ,   W E L C O M E   T O   T H E   A G E   O F   A I\n"
     ]
    }
   ],
   "source": [
    "\n",
    "# string \n",
    "\n",
    "string = \"hello world, welcome to the age of AI\"\n",
    "string1 = list(map(str.upper , string))\n",
    "print(string1)\n",
    "string1 = \" \".join(string1)\n",
    "print(string1)"
   ]
  },
  {
   "cell_type": "code",
   "execution_count": 33,
   "id": "18ce8d6a",
   "metadata": {},
   "outputs": [
    {
     "name": "stdout",
     "output_type": "stream",
     "text": [
      "[1, 4, 9, 16, 25, 36]\n"
     ]
    }
   ],
   "source": [
    "\n",
    "# map with lambda function \n",
    "lst = [ 1 ,2 ,3 ,4 ,5 ,6 ]\n",
    "\n",
    "lst = list(map(lambda x : x**2,lst))\n",
    "\n",
    "print(lst)"
   ]
  },
  {
   "cell_type": "markdown",
   "id": "934f149d",
   "metadata": {},
   "source": [
    "\n",
    "filter"
   ]
  },
  {
   "cell_type": "code",
   "execution_count": 34,
   "id": "cb35294a",
   "metadata": {},
   "outputs": [
    {
     "name": "stdout",
     "output_type": "stream",
     "text": [
      "[51, 52, 53, 54, 55, 56, 57, 58, 59, 60, 61, 62, 63, 64, 65, 66, 67, 68, 69, 70, 71, 72, 73, 74, 75, 76, 77, 78, 79, 80, 81, 82, 83, 84, 85, 86, 87, 88, 89, 90, 91, 92, 93, 94, 95, 96, 97, 98, 99]\n"
     ]
    }
   ],
   "source": [
    "\n",
    "numbers = [x for x in range(100)]\n",
    "\n",
    "\n",
    "# even \n",
    "\n",
    "even = list(filter( lambda x : x % 2 ==0,numbers))\n",
    "\n",
    "#print(even)\n",
    "\n",
    "\n",
    "\n",
    "fifty_upper = list(filter( lambda x : x >50,numbers))\n",
    "\n",
    "print(fifty_upper)"
   ]
  },
  {
   "cell_type": "code",
   "execution_count": 35,
   "id": "5e7cb329",
   "metadata": {},
   "outputs": [
    {
     "name": "stdout",
     "output_type": "stream",
     "text": [
      "[1, 'Hello', [1, 2], True]\n"
     ]
    }
   ],
   "source": [
    "\n",
    "data = [0, 1, '',None, 'Hello', [], [1, 2], None, True, False, None]\n",
    "\n",
    "cleaned_data = list(filter(None, data))\n",
    "\n",
    "print(cleaned_data) "
   ]
  },
  {
   "cell_type": "code",
   "execution_count": 36,
   "id": "be86c54d",
   "metadata": {},
   "outputs": [
    {
     "name": "stdout",
     "output_type": "stream",
     "text": [
      "['E', 'O', 'O', 'E', 'O', 'E', 'O', 'E', 'A', 'E', 'O', 'A', 'I']\n"
     ]
    }
   ],
   "source": [
    "\n",
    "# string \n",
    "\n",
    "vowel_ = list(filter( lambda x : x in \"AEIOU\" , string1))\n",
    "\n",
    "print(vowel_)"
   ]
  },
  {
   "cell_type": "code",
   "execution_count": 37,
   "id": "b350bb1b",
   "metadata": {},
   "outputs": [
    {
     "name": "stdout",
     "output_type": "stream",
     "text": [
      "['aaa', 'cccc', 'ddddd']\n"
     ]
    }
   ],
   "source": [
    "\n",
    "fruits = [ 'aaa' , 'bb' , 'cccc' , 'ddddd' ]\n",
    "\n",
    "filtering = list(filter(lambda x: len(x)>2 , fruits))\n",
    "\n",
    "print(filtering) "
   ]
  },
  {
   "cell_type": "markdown",
   "id": "76535a35",
   "metadata": {},
   "source": [
    "\n",
    "Reduce"
   ]
  },
  {
   "cell_type": "code",
   "execution_count": 39,
   "id": "000fe096",
   "metadata": {},
   "outputs": [
    {
     "name": "stdout",
     "output_type": "stream",
     "text": [
      "21\n"
     ]
    }
   ],
   "source": [
    "\n",
    "from functools import reduce \n",
    "\n",
    "lst = [ 1 ,2 ,3 ,4 ,5 ,6 ]\n",
    "\n",
    "summation = reduce(lambda x,y : x+y , lst) \n",
    "\n",
    "print(summation)"
   ]
  },
  {
   "cell_type": "code",
   "execution_count": 40,
   "id": "d120e26f",
   "metadata": {},
   "outputs": [
    {
     "name": "stdout",
     "output_type": "stream",
     "text": [
      "10\n"
     ]
    }
   ],
   "source": [
    "\n",
    "lst = [ 1 ,2 ,10,4 ,5 ,6 ]\n",
    "\n",
    "max_value = reduce( lambda x , y :x if x > y else y ,lst) \n",
    "\n",
    "print(max_value) "
   ]
  },
  {
   "cell_type": "code",
   "execution_count": 41,
   "id": "56c9d33b",
   "metadata": {},
   "outputs": [
    {
     "name": "stdout",
     "output_type": "stream",
     "text": [
      "['hello', 'world', 'welcome', 'to', 'programming']\n"
     ]
    }
   ],
   "source": [
    "\n",
    "lst = [ \"hello\", \"world\" , \"welcome\" ,\"to\", \"programming\"]\n",
    "print(lst)"
   ]
  },
  {
   "cell_type": "code",
   "execution_count": 42,
   "id": "0b522d5f",
   "metadata": {},
   "outputs": [
    {
     "name": "stdout",
     "output_type": "stream",
     "text": [
      "hello world welcome to programming\n"
     ]
    }
   ],
   "source": [
    "\n",
    "string = reduce(lambda x,y : x+ \" \" + y ,lst) \n",
    "print(string)"
   ]
  },
  {
   "cell_type": "markdown",
   "id": "4b1bf0c9",
   "metadata": {},
   "source": [
    "\n",
    "File Read \n",
    "Moduel - 7\n"
   ]
  },
  {
   "cell_type": "code",
   "execution_count": 50,
   "id": "f3cc25c0",
   "metadata": {},
   "outputs": [],
   "source": [
    "# Google colab এর কাজ করতে হবে \n",
    " "
   ]
  },
  {
   "cell_type": "markdown",
   "id": "e59fe21e",
   "metadata": {},
   "source": [
    "Moduek - 8\n"
   ]
  },
  {
   "cell_type": "markdown",
   "id": "5f4b994a",
   "metadata": {},
   "source": [
    "Class and Objects"
   ]
  },
  {
   "cell_type": "code",
   "execution_count": 53,
   "id": "98b6d477",
   "metadata": {},
   "outputs": [
    {
     "name": "stdout",
     "output_type": "stream",
     "text": [
      "photo captured in Iphone17\n",
      "100\n"
     ]
    }
   ],
   "source": [
    "## creating object\n",
    "\n",
    "apple = Phone(\"Iphone17\",3000,40)\n",
    "blueberry = Phone(\"B-17\",4000,30)\n",
    "motorola = Phone(\"M-17\",3500,35)\n",
    "apple.capture(10)\n",
    "print(motorola.battery_percentage)"
   ]
  },
  {
   "cell_type": "markdown",
   "id": "282bf009",
   "metadata": {},
   "source": [
    "Single Inheritance"
   ]
  },
  {
   "cell_type": "code",
   "execution_count": 54,
   "id": "b84277be",
   "metadata": {},
   "outputs": [],
   "source": [
    "\n",
    "# child / derived class\n",
    "class SmartPhone(Phone):\n",
    "  def __init__(self,model , battery , camera,processor):\n",
    "    super().__init__(model,battery,camera)\n",
    "    self.processor = processor\n",
    "\n",
    "   ## modified method\n",
    "  def charge(self,hour):\n",
    "    print(\"fast charging in process\")\n",
    "    super().charge(hour)\n",
    "\n"
   ]
  },
  {
   "cell_type": "markdown",
   "id": "8eb38a57",
   "metadata": {},
   "source": [
    "\n",
    "Multiple Inheritance"
   ]
  },
  {
   "cell_type": "code",
   "execution_count": 55,
   "id": "d0461443",
   "metadata": {},
   "outputs": [
    {
     "name": "stdout",
     "output_type": "stream",
     "text": [
      "SD\n",
      "5000\n",
      "Nitrogen\n",
      "the system is being cool by Nitrogen\n",
      "None\n",
      "fast charging in process\n",
      "charge completed by 1\n",
      "None\n"
     ]
    }
   ],
   "source": [
    "class SmartPhone_CoolingMode(SmartPhone,Cooling_Mechanism):\n",
    "   def __init__(self,model , battery , camera,processor,cooling_method):\n",
    "    SmartPhone.__init__(self,model,battery,camera,processor)\n",
    "    Cooling_Mechanism.__init__(self,cooling_method)\n",
    "\n",
    "\n",
    "     \n",
    "\n",
    "pro_cooling = SmartPhone_CoolingMode(\"Y\",5000,100,\"SD\",\"Nitrogen\")\n",
    "\n",
    "print(pro_cooling.processor) # SmartPhone class theke\n",
    "print(pro_cooling.battery) # Phone class theke\n",
    "print(pro_cooling.cooling_method) # Cooling_Mechanism class theke\n",
    "print(pro_cooling.cooling_on()) # Cooling_Mechanism class er method\n",
    "print(pro_cooling.charge(1)) # SmartPhone er modified charge jeta Phone class theke inherited\n",
    "     "
   ]
  },
  {
   "cell_type": "markdown",
   "id": "1a21cb39",
   "metadata": {},
   "source": [
    "Polymorphsim"
   ]
  },
  {
   "cell_type": "code",
   "execution_count": 57,
   "id": "44461fd1",
   "metadata": {},
   "outputs": [],
   "source": [
    "# nai"
   ]
  },
  {
   "cell_type": "markdown",
   "id": "235f397f",
   "metadata": {},
   "source": [
    "\n",
    "Abstraction"
   ]
  },
  {
   "cell_type": "code",
   "execution_count": 58,
   "id": "ce3237b5",
   "metadata": {},
   "outputs": [
    {
     "name": "stdout",
     "output_type": "stream",
     "text": [
      "Making a call using IPhone\n"
     ]
    }
   ],
   "source": [
    "from abc import  ABC , abstractmethod\n",
    "\n",
    "class Telephone(ABC):\n",
    "\n",
    "  @abstractmethod\n",
    "  def make_call(self):\n",
    "    pass\n",
    "\n",
    "\n",
    "\n",
    "class Sphone(Telephone):\n",
    "  def make_call(self):\n",
    "    print(\"Making a call using SPhone\")\n",
    "\n",
    "\n",
    "\n",
    "class Iphone(Telephone):\n",
    "   def make_call(self):\n",
    "    print(\"Making a call using IPhone\")\n",
    "\n",
    "\n",
    "\n",
    "     \n",
    "\n",
    "ip = Iphone()\n",
    "\n",
    "ip.make_call()"
   ]
  }
 ],
 "metadata": {
  "language_info": {
   "name": "python"
  }
 },
 "nbformat": 4,
 "nbformat_minor": 5
}
